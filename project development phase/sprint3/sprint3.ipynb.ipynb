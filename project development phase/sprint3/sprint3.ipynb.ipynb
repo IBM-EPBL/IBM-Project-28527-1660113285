{
  "nbformat": 4,
  "nbformat_minor": 0,
  "metadata": {
    "colab": {
      "provenance": [],
      "toc_visible": true
    },
    "kernelspec": {
      "name": "python3",
      "display_name": "Python 3"
    },
    "language_info": {
      "name": "python"
    }
  },
  "cells": [
    {
      "cell_type": "code",
      "execution_count": null,
      "metadata": {
        "id": "vEzm2CyaIk-0"
      },
      "outputs": [],
      "source": [
        "import pandas as pd\n",
        "import numpy as np\n",
        "import seaborn as sns\n",
        "import matplotlib.pyplot as plt\n",
        "from sklearn import preprocessing\n",
        "from sklearn import model_selection\n",
        "from sklearn import metrics\n",
        "from sklearn import linear_model\n",
        "from sklearn import ensemble\n",
        "from sklearn import tree\n",
        "from sklearn import svm\n",
        "import xgboost\n",
        "import csv"
      ]
    },
    {
      "cell_type": "code",
      "source": [
        "df=pd.read_csv('weather.csv')"
      ],
      "metadata": {
        "id": "1uoQi64sI2Rt"
      },
      "execution_count": null,
      "outputs": []
    },
    {
      "cell_type": "code",
      "source": [
        "y=df['RainTomorrow']\n",
        "x=df.drop('RainTomorrow',axis=1)"
      ],
      "metadata": {
        "id": "2XHDG9l_KKbu"
      },
      "execution_count": null,
      "outputs": []
    },
    {
      "cell_type": "code",
      "source": [
        "from sklearn.preprocessing import StandardScaler\n",
        "y = df['RainTomorrow']\n",
        "x = df.drop('RainTomorrow',axis=1)"
      ],
      "metadata": {
        "id": "DwTLSs6zKRan"
      },
      "execution_count": null,
      "outputs": []
    },
    {
      "cell_type": "code",
      "source": [
        "n = x.columns"
      ],
      "metadata": {
        "id": "UNByaBONKKjc"
      },
      "execution_count": null,
      "outputs": []
    },
    {
      "cell_type": "code",
      "source": [
        "sc = StandardScaler()\n",
        "x = pd.DataFrame(x,columns=n)"
      ],
      "metadata": {
        "id": "URj4icfBKZND"
      },
      "execution_count": null,
      "outputs": []
    },
    {
      "cell_type": "code",
      "source": [
        "df.WindGustSpeed.replace(np.nan,df.WindGustSpeed.mean(),inplace=True)\n",
        "df.WindSpeed9am.replace(np.nan,df.WindSpeed9am.mean(),inplace=True)\n",
        "# Columns Include Categorial Data only\n",
        "df.WindGustDir.replace(np.nan,\"N/a\",inplace=True)\n",
        "df.WindDir9am.replace(np.nan,\"N/a\",inplace=True)\n",
        "df.WindDir3pm.replace(np.nan,\"N/a\",inplace=True)\n",
        "df.isna().sum()"
      ],
      "metadata": {
        "colab": {
          "base_uri": "https://localhost:8080/"
        },
        "id": "UYhIQWE8Keu3",
        "outputId": "a779a52e-ab15-424e-8ffa-57875fe66854"
      },
      "execution_count": null,
      "outputs": [
        {
          "output_type": "execute_result",
          "data": {
            "text/plain": [
              "Date              14358\n",
              "Location          14435\n",
              "MinTemp           15641\n",
              "MaxTemp           15461\n",
              "Rainfall          17003\n",
              "Evaporation       59092\n",
              "Sunshine          66379\n",
              "WindGustDir           0\n",
              "WindGustSpeed         0\n",
              "WindDir9am            0\n",
              "WindDir3pm            0\n",
              "WindSpeed9am          0\n",
              "WindSpeed3pm      16540\n",
              "Humidity9am       16521\n",
              "Humidity3pm       16941\n",
              "Pressure9am       25101\n",
              "Pressure3pm       25052\n",
              "Cloud9am          54527\n",
              "Cloud3pm          55678\n",
              "Temp9am           16005\n",
              "Temp3pm           16482\n",
              "RainToday         17003\n",
              "RainTomorrow      17002\n",
              "YEAR             110317\n",
              "ANNUAL           110343\n",
              "dtype: int64"
            ]
          },
          "metadata": {},
          "execution_count": 15
        }
      ]
    },
    {
      "cell_type": "code",
      "source": [
        "from sklearn import model_selection"
      ],
      "metadata": {
        "id": "16sbjhXSKgrD"
      },
      "execution_count": null,
      "outputs": []
    },
    {
      "cell_type": "code",
      "source": [
        "x_train,x_test,y_train,y_test = model_selection.train_test_split(x,y,test_size =0.2,random_state =0)\n",
        "print(x_train.shape)\n",
        "print(y_train.shape)\n",
        "print(x_test.shape)\n",
        "print(y_test.shape)"
      ],
      "metadata": {
        "colab": {
          "base_uri": "https://localhost:8080/"
        },
        "id": "ZCqB9i4zKkJ2",
        "outputId": "633d44b1-6135-41f0-c66f-3c7a0a515d0d"
      },
      "execution_count": null,
      "outputs": [
        {
          "output_type": "stream",
          "name": "stdout",
          "text": [
            "(91546, 24)\n",
            "(91546,)\n",
            "(22887, 24)\n",
            "(22887,)\n"
          ]
        }
      ]
    },
    {
      "cell_type": "code",
      "source": [
        "print(x_train)"
      ],
      "metadata": {
        "colab": {
          "base_uri": "https://localhost:8080/"
        },
        "id": "Nc91i3_4KnFf",
        "outputId": "8521e315-cc59-4fe9-c9d0-7e83f0ad9bff"
      },
      "execution_count": null,
      "outputs": [
        {
          "output_type": "stream",
          "name": "stdout",
          "text": [
            "             Date       Location  MinTemp  MaxTemp  Rainfall  Evaporation  \\\n",
            "2272   20-05-2015         Albury     10.3     17.6      12.8          NaN   \n",
            "38435  19-06-2014     WaggaWagga      4.9     14.1       0.0          0.2   \n",
            "68921  15-06-2013      Melbourne      9.7     14.8       NaN          1.2   \n",
            "8909   28-01-2017          Cobar     24.4     41.0       0.0          NaN   \n",
            "43712  10-03-2012     Wollongong     16.9     22.4       0.4          NaN   \n",
            "...           ...            ...      ...      ...       ...          ...   \n",
            "21243  05-05-2009  NorfolkIsland     16.0     20.4       0.0          6.4   \n",
            "45891  31-08-2008       Canberra      6.1     17.2       4.0          2.2   \n",
            "42613  05-02-2009     Wollongong     20.3     26.8       0.0          NaN   \n",
            "43567  17-10-2011     Wollongong     12.0     16.7       0.8          NaN   \n",
            "68268  04-07-2011      Melbourne     10.0     15.8       0.2          1.2   \n",
            "\n",
            "       Sunshine WindGustDir  WindGustSpeed WindDir9am  ... Humidity3pm  \\\n",
            "2272        NaN         WNW           26.0          N  ...        69.0   \n",
            "38435       4.6         ENE           26.0        ESE  ...        71.0   \n",
            "68921       2.0         SSE           41.0        WSW  ...        68.0   \n",
            "8909        NaN         NaN            NaN        NNE  ...        18.0   \n",
            "43712       NaN           S           35.0        SSW  ...        72.0   \n",
            "...         ...         ...            ...        ...  ...         ...   \n",
            "21243       9.5         SSW           31.0          S  ...        54.0   \n",
            "45891       2.4          NW           59.0         NW  ...        85.0   \n",
            "42613       NaN         NNE           43.0        NNE  ...        73.0   \n",
            "43567       NaN         SSW           50.0          S  ...        51.0   \n",
            "68268       5.0          NW           76.0        NNW  ...        49.0   \n",
            "\n",
            "       Pressure9am  Pressure3pm  Cloud9am  Cloud3pm  Temp9am  Temp3pm  \\\n",
            "2272        1014.4       1014.5       8.0       8.0     14.9     16.9   \n",
            "38435       1028.2       1023.4       8.0       7.0      5.1     13.6   \n",
            "68921       1020.7       1020.9       NaN       NaN     10.7     13.3   \n",
            "8909        1012.8       1009.7       NaN       NaN     30.0     39.7   \n",
            "43712       1013.8       1015.0       NaN       7.0     19.3     21.1   \n",
            "...            ...          ...       ...       ...      ...      ...   \n",
            "21243       1021.1       1018.8       5.0       2.0     18.3     19.6   \n",
            "45891       1011.2       1010.4       7.0       7.0     13.5     12.6   \n",
            "42613       1008.9       1005.8       NaN       NaN     22.9     25.5   \n",
            "43567       1032.0       1032.2       NaN       NaN     14.7     16.4   \n",
            "68268       1007.1       1003.2       5.0       7.0     11.8     13.9   \n",
            "\n",
            "       RainToday    YEAR  ANNUAL  \n",
            "2272         Yes  2011.0  1275.2  \n",
            "38435         No     NaN     NaN  \n",
            "68921        NaN     NaN     NaN  \n",
            "8909          No     NaN     NaN  \n",
            "43712         No     NaN     NaN  \n",
            "...          ...     ...     ...  \n",
            "21243         No     NaN     NaN  \n",
            "45891        Yes     NaN     NaN  \n",
            "42613         No     NaN     NaN  \n",
            "43567         No     NaN     NaN  \n",
            "68268         No     NaN     NaN  \n",
            "\n",
            "[91546 rows x 24 columns]\n"
          ]
        }
      ]
    },
    {
      "cell_type": "code",
      "source": [
        "def SLRegression_and_eval(df,feature1,feature2):\n",
        "    X=df[feature1].values\n",
        "    Y=df[feature2].values\n",
        "    x_mean=X.mean()\n",
        "    y_mean=Y.mean()\n",
        "\n",
        "    \n",
        "    a=sum([(xi-x_mean)*(yi-y_mean) for xi,yi in zip(X,Y)])/sum([(xi-x_mean)**2 for xi in X])\n",
        "    b=y_mean-(a*x_mean)\n",
        "\n",
        "    \n",
        "    Y_pred=lambda x: a*x+b\n",
        "  \n",
        "    plt.scatter(X,Y,color=\"y\");\n",
        "    plt.plot([X.min(),X.max()],[Y_pred(X.min()),Y_pred(X.max())],color=\"purple\")\n",
        "    plt.scatter(x_mean,y_mean,color=\"blue\",marker=\"s\");\n",
        "    \n",
        "    RSS=sum([(yi-Y_pred(xi))**2 for xi,yi in zip(X,Y)])\n",
        "    TSS=sum([(yi-y_mean)**2 for yi in Y])\n",
        "    R2_score=1-(RSS/TSS)\n",
        "\n",
        "    print(\"RSS{}\\nTSS={}\\nR2_score={}\".format(RSS,TSS,R2_score))"
      ],
      "metadata": {
        "id": "GqvVJtV7Krx_"
      },
      "execution_count": null,
      "outputs": []
    },
    {
      "cell_type": "code",
      "source": [
        "SLRegression_and_eval(df,\"Temp9am\",\"Temp3pm\")"
      ],
      "metadata": {
        "colab": {
          "base_uri": "https://localhost:8080/",
          "height": 317
        },
        "id": "2sWXOvhvK3W4",
        "outputId": "ea0a861e-19fa-475e-b462-2735a4595337"
      },
      "execution_count": null,
      "outputs": [
        {
          "output_type": "stream",
          "name": "stdout",
          "text": [
            "RSSnan\n",
            "TSS=nan\n",
            "R2_score=nan\n"
          ]
        },
        {
          "output_type": "display_data",
          "data": {
            "text/plain": [
              "<Figure size 432x288 with 1 Axes>"
            ],
            "image/png": "[encoded data removed]"
          },
          "metadata": {
            "needs_background": "light"
          }
        }
      ]
    },
    {
      "cell_type": "code",
      "source": [
        "SLRegression_and_eval(df,\"Pressure9am\",\"Pressure3pm\")"
      ],
      "metadata": {
        "colab": {
          "base_uri": "https://localhost:8080/",
          "height": 319
        },
        "id": "Yy3rcExBK3ix",
        "outputId": "86d92d7c-53af-42d3-8c4e-09ec08f4b124"
      },
      "execution_count": null,
      "outputs": [
        {
          "output_type": "stream",
          "name": "stdout",
          "text": [
            "RSSnan\n",
            "TSS=nan\n",
            "R2_score=nan\n"
          ]
        },
        {
          "output_type": "display_data",
          "data": {
            "text/plain": [
              "<Figure size 432x288 with 1 Axes>"
            ],
            "image/png": "[encoded data removed]"
          },
          "metadata": {
            "needs_background": "light"
          }
        }
      ]
    },
    {
      "cell_type": "code",
      "source": [
        "SLRegression_and_eval(df,\"MinTemp\",\"MaxTemp\")"
      ],
      "metadata": {
        "colab": {
          "base_uri": "https://localhost:8080/",
          "height": 317
        },
        "id": "kahD3u-SLBy8",
        "outputId": "dea21e17-1930-4d18-f9fc-29f85be7838c"
      },
      "execution_count": null,
      "outputs": [
        {
          "output_type": "stream",
          "name": "stdout",
          "text": [
            "RSSnan\n",
            "TSS=nan\n",
            "R2_score=nan\n"
          ]
        },
        {
          "output_type": "display_data",
          "data": {
            "text/plain": [
              "<Figure size 432x288 with 1 Axes>"
            ],
            "image/png": "[encoded data removed]"
          },
          "metadata": {
            "needs_background": "light"
          }
        }
      ]
    },
    {
      "cell_type": "code",
      "source": [
        "SLRegression_and_eval(df,\"Temp3pm\",\"MaxTemp\")"
      ],
      "metadata": {
        "colab": {
          "base_uri": "https://localhost:8080/",
          "height": 317
        },
        "id": "6YoINQ8QLFNd",
        "outputId": "beb4f075-4ac9-4fc7-ee8f-0cff647112be"
      },
      "execution_count": null,
      "outputs": [
        {
          "output_type": "stream",
          "name": "stdout",
          "text": [
            "RSSnan\n",
            "TSS=nan\n",
            "R2_score=nan\n"
          ]
        },
        {
          "output_type": "display_data",
          "data": {
            "text/plain": [
              "<Figure size 432x288 with 1 Axes>"
            ],
            "image/png": "[encoded data removed]"
          },
          "metadata": {
            "needs_background": "light"
          }
        }
      ]
    },
    {
      "cell_type": "code",
      "source": [
        "SLRegression_and_eval(df,\"WindGustSpeed\",\"Rainfall\")"
      ],
      "metadata": {
        "colab": {
          "base_uri": "https://localhost:8080/",
          "height": 317
        },
        "id": "Vs0SuYV8LFT7",
        "outputId": "3be4b29f-c02a-4db5-80b9-809251ae50dc"
      },
      "execution_count": null,
      "outputs": [
        {
          "output_type": "stream",
          "name": "stdout",
          "text": [
            "RSSnan\n",
            "TSS=nan\n",
            "R2_score=nan\n"
          ]
        },
        {
          "output_type": "display_data",
          "data": {
            "text/plain": [
              "<Figure size 432x288 with 1 Axes>"
            ],
            "image/png": "[encoded data removed]"
          },
          "metadata": {
            "needs_background": "light"
          }
        }
      ]
    }
  ]
}