{
  "cells": [
    {
      "cell_type": "markdown",
      "metadata": {
        "id": "893Q01mvbI5G"
      },
      "source": [
        "Data Pre-Processing"
      ]
    },
    {
      "cell_type": "markdown",
      "metadata": {
        "id": "qBGCYb2EbKMq"
      },
      "source": [
        "Import Necessary Libraries"
      ]
    },
    {
      "cell_type": "code",
      "execution_count": 1,
      "metadata": {
        "id": "QctL7jEQab3w"
      },
      "outputs": [],
      "source": [
        "import pandas as pd\n",
        "import numpy as np\n",
        "import seaborn as sns\n",
        "import matplotlib.pyplot as plt\n",
        "from sklearn import preprocessing\n",
        "from sklearn import model_selection\n",
        "from sklearn import metrics\n",
        "from sklearn import linear_model\n",
        "from sklearn import ensemble\n",
        "from sklearn import tree\n",
        "from sklearn import svm\n",
        "import xgboost"
      ]
    },
    {
      "cell_type": "markdown",
      "metadata": {
        "id": "S0cav-DWbSmK"
      },
      "source": [
        "## **Importing The Dataset**\n",
        "\n"
      ]
    },
    {
      "cell_type": "code",
      "execution_count": 2,
      "metadata": {
        "id": "xTqKvr80bTIT"
      },
      "outputs": [],
      "source": [
        "data = pd.read_csv(\"/content/weatherAUS.csv\")"
      ]
    },
    {
      "cell_type": "markdown",
      "metadata": {
        "id": "r7h5p3I4bV6t"
      },
      "source": [
        "## **Analyse The Data**"
      ]
    },
    {
      "cell_type": "code",
      "execution_count": 3,
      "metadata": {
        "colab": {
          "base_uri": "https://localhost:8080/",
          "height": 386
        },
        "id": "d_MJ4Je1bXQ1",
        "outputId": "b8de9278-1af9-4361-d6a0-00fc81b3f72b"
      },
      "outputs": [
        {
          "output_type": "execute_result",
          "data": {
            "text/plain": [
              "         Date Location  MinTemp  MaxTemp  Rainfall  Evaporation  Sunshine  \\\n",
              "0  2008-12-01   Albury     13.4     22.9       0.6          NaN       NaN   \n",
              "1  2008-12-02   Albury      7.4     25.1       0.0          NaN       NaN   \n",
              "2  2008-12-03   Albury     12.9     25.7       0.0          NaN       NaN   \n",
              "3  2008-12-04   Albury      9.2     28.0       0.0          NaN       NaN   \n",
              "4  2008-12-05   Albury     17.5     32.3       1.0          NaN       NaN   \n",
              "\n",
              "  WindGustDir  WindGustSpeed WindDir9am  ... Humidity9am  Humidity3pm  \\\n",
              "0           W           44.0          W  ...        71.0         22.0   \n",
              "1         WNW           44.0        NNW  ...        44.0         25.0   \n",
              "2         WSW           46.0          W  ...        38.0         30.0   \n",
              "3          NE           24.0         SE  ...        45.0         16.0   \n",
              "4           W           41.0        ENE  ...        82.0         33.0   \n",
              "\n",
              "   Pressure9am  Pressure3pm  Cloud9am  Cloud3pm  Temp9am  Temp3pm  RainToday  \\\n",
              "0       1007.7       1007.1       8.0       NaN     16.9     21.8         No   \n",
              "1       1010.6       1007.8       NaN       NaN     17.2     24.3         No   \n",
              "2       1007.6       1008.7       NaN       2.0     21.0     23.2         No   \n",
              "3       1017.6       1012.8       NaN       NaN     18.1     26.5         No   \n",
              "4       1010.8       1006.0       7.0       8.0     17.8     29.7         No   \n",
              "\n",
              "   RainTomorrow  \n",
              "0            No  \n",
              "1            No  \n",
              "2            No  \n",
              "3            No  \n",
              "4            No  \n",
              "\n",
              "[5 rows x 23 columns]"
            ],
            "text/html": [
              "\n",
              "  <div id=\"df-3a368dd9-c529-4312-97fe-da00955bac2c\">\n",
              "    <div class=\"colab-df-container\">\n",
              "      <div>\n",
              "<style scoped>\n",
              "    .dataframe tbody tr th:only-of-type {\n",
              "        vertical-align: middle;\n",
              "    }\n",
              "\n",
              "    .dataframe tbody tr th {\n",
              "        vertical-align: top;\n",
              "    }\n",
              "\n",
              "    .dataframe thead th {\n",
              "        text-align: right;\n",
              "    }\n",
              "</style>\n",
              "<table border=\"1\" class=\"dataframe\">\n",
              "  <thead>\n",
              "    <tr style=\"text-align: right;\">\n",
              "      <th></th>\n",
              "      <th>Date</th>\n",
              "      <th>Location</th>\n",
              "      <th>MinTemp</th>\n",
              "      <th>MaxTemp</th>\n",
              "      <th>Rainfall</th>\n",
              "      <th>Evaporation</th>\n",
              "      <th>Sunshine</th>\n",
              "      <th>WindGustDir</th>\n",
              "      <th>WindGustSpeed</th>\n",
              "      <th>WindDir9am</th>\n",
              "      <th>...</th>\n",
              "      <th>Humidity9am</th>\n",
              "      <th>Humidity3pm</th>\n",
              "      <th>Pressure9am</th>\n",
              "      <th>Pressure3pm</th>\n",
              "      <th>Cloud9am</th>\n",
              "      <th>Cloud3pm</th>\n",
              "      <th>Temp9am</th>\n",
              "      <th>Temp3pm</th>\n",
              "      <th>RainToday</th>\n",
              "      <th>RainTomorrow</th>\n",
              "    </tr>\n",
              "  </thead>\n",
              "  <tbody>\n",
              "    <tr>\n",
              "      <th>0</th>\n",
              "      <td>2008-12-01</td>\n",
              "      <td>Albury</td>\n",
              "      <td>13.4</td>\n",
              "      <td>22.9</td>\n",
              "      <td>0.6</td>\n",
              "      <td>NaN</td>\n",
              "      <td>NaN</td>\n",
              "      <td>W</td>\n",
              "      <td>44.0</td>\n",
              "      <td>W</td>\n",
              "      <td>...</td>\n",
              "      <td>71.0</td>\n",
              "      <td>22.0</td>\n",
              "      <td>1007.7</td>\n",
              "      <td>1007.1</td>\n",
              "      <td>8.0</td>\n",
              "      <td>NaN</td>\n",
              "      <td>16.9</td>\n",
              "      <td>21.8</td>\n",
              "      <td>No</td>\n",
              "      <td>No</td>\n",
              "    </tr>\n",
              "    <tr>\n",
              "      <th>1</th>\n",
              "      <td>2008-12-02</td>\n",
              "      <td>Albury</td>\n",
              "      <td>7.4</td>\n",
              "      <td>25.1</td>\n",
              "      <td>0.0</td>\n",
              "      <td>NaN</td>\n",
              "      <td>NaN</td>\n",
              "      <td>WNW</td>\n",
              "      <td>44.0</td>\n",
              "      <td>NNW</td>\n",
              "      <td>...</td>\n",
              "      <td>44.0</td>\n",
              "      <td>25.0</td>\n",
              "      <td>1010.6</td>\n",
              "      <td>1007.8</td>\n",
              "      <td>NaN</td>\n",
              "      <td>NaN</td>\n",
              "      <td>17.2</td>\n",
              "      <td>24.3</td>\n",
              "      <td>No</td>\n",
              "      <td>No</td>\n",
              "    </tr>\n",
              "    <tr>\n",
              "      <th>2</th>\n",
              "      <td>2008-12-03</td>\n",
              "      <td>Albury</td>\n",
              "      <td>12.9</td>\n",
              "      <td>25.7</td>\n",
              "      <td>0.0</td>\n",
              "      <td>NaN</td>\n",
              "      <td>NaN</td>\n",
              "      <td>WSW</td>\n",
              "      <td>46.0</td>\n",
              "      <td>W</td>\n",
              "      <td>...</td>\n",
              "      <td>38.0</td>\n",
              "      <td>30.0</td>\n",
              "      <td>1007.6</td>\n",
              "      <td>1008.7</td>\n",
              "      <td>NaN</td>\n",
              "      <td>2.0</td>\n",
              "      <td>21.0</td>\n",
              "      <td>23.2</td>\n",
              "      <td>No</td>\n",
              "      <td>No</td>\n",
              "    </tr>\n",
              "    <tr>\n",
              "      <th>3</th>\n",
              "      <td>2008-12-04</td>\n",
              "      <td>Albury</td>\n",
              "      <td>9.2</td>\n",
              "      <td>28.0</td>\n",
              "      <td>0.0</td>\n",
              "      <td>NaN</td>\n",
              "      <td>NaN</td>\n",
              "      <td>NE</td>\n",
              "      <td>24.0</td>\n",
              "      <td>SE</td>\n",
              "      <td>...</td>\n",
              "      <td>45.0</td>\n",
              "      <td>16.0</td>\n",
              "      <td>1017.6</td>\n",
              "      <td>1012.8</td>\n",
              "      <td>NaN</td>\n",
              "      <td>NaN</td>\n",
              "      <td>18.1</td>\n",
              "      <td>26.5</td>\n",
              "      <td>No</td>\n",
              "      <td>No</td>\n",
              "    </tr>\n",
              "    <tr>\n",
              "      <th>4</th>\n",
              "      <td>2008-12-05</td>\n",
              "      <td>Albury</td>\n",
              "      <td>17.5</td>\n",
              "      <td>32.3</td>\n",
              "      <td>1.0</td>\n",
              "      <td>NaN</td>\n",
              "      <td>NaN</td>\n",
              "      <td>W</td>\n",
              "      <td>41.0</td>\n",
              "      <td>ENE</td>\n",
              "      <td>...</td>\n",
              "      <td>82.0</td>\n",
              "      <td>33.0</td>\n",
              "      <td>1010.8</td>\n",
              "      <td>1006.0</td>\n",
              "      <td>7.0</td>\n",
              "      <td>8.0</td>\n",
              "      <td>17.8</td>\n",
              "      <td>29.7</td>\n",
              "      <td>No</td>\n",
              "      <td>No</td>\n",
              "    </tr>\n",
              "  </tbody>\n",
              "</table>\n",
              "<p>5 rows × 23 columns</p>\n",
              "</div>\n",
              "      <button class=\"colab-df-convert\" onclick=\"convertToInteractive('df-3a368dd9-c529-4312-97fe-da00955bac2c')\"\n",
              "              title=\"Convert this dataframe to an interactive table.\"\n",
              "              style=\"display:none;\">\n",
              "        \n",
              "  <svg xmlns=\"http://www.w3.org/2000/svg\" height=\"24px\"viewBox=\"0 0 24 24\"\n",
              "       width=\"24px\">\n",
              "    <path d=\"M0 0h24v24H0V0z\" fill=\"none\"/>\n",
              "    <path d=\"M18.56 5.44l.94 2.06.94-2.06 2.06-.94-2.06-.94-.94-2.06-.94 2.06-2.06.94zm-11 1L8.5 8.5l.94-2.06 2.06-.94-2.06-.94L8.5 2.5l-.94 2.06-2.06.94zm10 10l.94 2.06.94-2.06 2.06-.94-2.06-.94-.94-2.06-.94 2.06-2.06.94z\"/><path d=\"M17.41 7.96l-1.37-1.37c-.4-.4-.92-.59-1.43-.59-.52 0-1.04.2-1.43.59L10.3 9.45l-7.72 7.72c-.78.78-.78 2.05 0 2.83L4 21.41c.39.39.9.59 1.41.59.51 0 1.02-.2 1.41-.59l7.78-7.78 2.81-2.81c.8-.78.8-2.07 0-2.86zM5.41 20L4 18.59l7.72-7.72 1.47 1.35L5.41 20z\"/>\n",
              "  </svg>\n",
              "      </button>\n",
              "      \n",
              "  <style>\n",
              "    .colab-df-container {\n",
              "      display:flex;\n",
              "      flex-wrap:wrap;\n",
              "      gap: 12px;\n",
              "    }\n",
              "\n",
              "    .colab-df-convert {\n",
              "      background-color: #E8F0FE;\n",
              "      border: none;\n",
              "      border-radius: 50%;\n",
              "      cursor: pointer;\n",
              "      display: none;\n",
              "      fill: #1967D2;\n",
              "      height: 32px;\n",
              "      padding: 0 0 0 0;\n",
              "      width: 32px;\n",
              "    }\n",
              "\n",
              "    .colab-df-convert:hover {\n",
              "      background-color: #E2EBFA;\n",
              "      box-shadow: 0px 1px 2px rgba(60, 64, 67, 0.3), 0px 1px 3px 1px rgba(60, 64, 67, 0.15);\n",
              "      fill: #174EA6;\n",
              "    }\n",
              "\n",
              "    [theme=dark] .colab-df-convert {\n",
              "      background-color: #3B4455;\n",
              "      fill: #D2E3FC;\n",
              "    }\n",
              "\n",
              "    [theme=dark] .colab-df-convert:hover {\n",
              "      background-color: #434B5C;\n",
              "      box-shadow: 0px 1px 3px 1px rgba(0, 0, 0, 0.15);\n",
              "      filter: drop-shadow(0px 1px 2px rgba(0, 0, 0, 0.3));\n",
              "      fill: #FFFFFF;\n",
              "    }\n",
              "  </style>\n",
              "\n",
              "      <script>\n",
              "        const buttonEl =\n",
              "          document.querySelector('#df-3a368dd9-c529-4312-97fe-da00955bac2c button.colab-df-convert');\n",
              "        buttonEl.style.display =\n",
              "          google.colab.kernel.accessAllowed ? 'block' : 'none';\n",
              "\n",
              "        async function convertToInteractive(key) {\n",
              "          const element = document.querySelector('#df-3a368dd9-c529-4312-97fe-da00955bac2c');\n",
              "          const dataTable =\n",
              "            await google.colab.kernel.invokeFunction('convertToInteractive',\n",
              "                                                     [key], {});\n",
              "          if (!dataTable) return;\n",
              "\n",
              "          const docLinkHtml = 'Like what you see? Visit the ' +\n",
              "            '<a target=\"_blank\" href=https://colab.research.google.com/notebooks/data_table.ipynb>data table notebook</a>'\n",
              "            + ' to learn more about interactive tables.';\n",
              "          element.innerHTML = '';\n",
              "          dataTable['output_type'] = 'display_data';\n",
              "          await google.colab.output.renderOutput(dataTable, element);\n",
              "          const docLink = document.createElement('div');\n",
              "          docLink.innerHTML = docLinkHtml;\n",
              "          element.appendChild(docLink);\n",
              "        }\n",
              "      </script>\n",
              "    </div>\n",
              "  </div>\n",
              "  "
            ]
          },
          "metadata": {},
          "execution_count": 3
        }
      ],
      "source": [
        "data.head()"
      ]
    },
    {
      "cell_type": "code",
      "execution_count": 4,
      "metadata": {
        "colab": {
          "base_uri": "https://localhost:8080/",
          "height": 364
        },
        "id": "PElpngkbbgLo",
        "outputId": "ac10f833-ef66-4e06-856d-938f11ac0640"
      },
      "outputs": [
        {
          "output_type": "execute_result",
          "data": {
            "text/plain": [
              "            MinTemp       MaxTemp      Rainfall   Evaporation     Sunshine  \\\n",
              "count  32057.000000  32186.000000  31871.000000  13492.000000  9040.000000   \n",
              "mean      13.205565     24.013211      2.631979      5.629314     7.642710   \n",
              "std        5.808879      6.015886      9.356417      4.573872     3.758171   \n",
              "min       -4.800000      6.800000      0.000000      0.000000     0.000000   \n",
              "25%        8.900000     19.500000      0.000000      3.000000     5.100000   \n",
              "50%       13.900000     23.400000      0.000000      4.600000     8.750000   \n",
              "75%       17.800000     27.700000      0.600000      7.200000    10.500000   \n",
              "max       29.700000     47.300000    371.000000     86.200000    14.000000   \n",
              "\n",
              "       WindGustSpeed  WindSpeed9am  WindSpeed3pm   Humidity9am   Humidity3pm  \\\n",
              "count   27704.000000  31727.000000  31081.000000  31890.000000  31225.000000   \n",
              "mean       37.303783     12.029628     16.536791     70.612637     52.321633   \n",
              "std        13.334088      8.983314      8.935051     17.616694     20.671632   \n",
              "min         7.000000      0.000000      0.000000      3.000000      1.000000   \n",
              "25%        28.000000      6.000000      9.000000     59.000000     37.000000   \n",
              "50%        35.000000     11.000000     15.000000     71.000000     53.000000   \n",
              "75%        44.000000     19.000000     22.000000     84.000000     67.000000   \n",
              "max       135.000000    130.000000     83.000000    100.000000    100.000000   \n",
              "\n",
              "        Pressure9am   Pressure3pm      Cloud9am      Cloud3pm       Temp9am  \\\n",
              "count  25872.000000  25875.000000  16745.000000  16415.000000  32119.000000   \n",
              "mean    1018.244678   1015.654860      4.316274      4.427109     17.772418   \n",
              "std        6.590718      6.521007      2.957202      2.724176      5.354867   \n",
              "min      980.500000    979.000000      0.000000      0.000000      0.300000   \n",
              "25%     1013.900000   1011.300000      1.000000      2.000000     14.000000   \n",
              "50%     1018.300000   1015.700000      5.000000      5.000000     18.200000   \n",
              "75%     1022.700000   1020.100000      7.000000      7.000000     21.700000   \n",
              "max     1039.900000   1036.800000      9.000000      8.000000     37.700000   \n",
              "\n",
              "            Temp3pm  \n",
              "count  31450.000000  \n",
              "mean      22.551237  \n",
              "std        5.862433  \n",
              "min        6.400000  \n",
              "25%       18.200000  \n",
              "50%       21.900000  \n",
              "75%       26.100000  \n",
              "max       46.700000  "
            ],
            "text/html": [
              "\n",
              "  <div id=\"df-9cf249c0-0f4c-4c29-9258-7fe26bb4a70a\">\n",
              "    <div class=\"colab-df-container\">\n",
              "      <div>\n",
              "<style scoped>\n",
              "    .dataframe tbody tr th:only-of-type {\n",
              "        vertical-align: middle;\n",
              "    }\n",
              "\n",
              "    .dataframe tbody tr th {\n",
              "        vertical-align: top;\n",
              "    }\n",
              "\n",
              "    .dataframe thead th {\n",
              "        text-align: right;\n",
              "    }\n",
              "</style>\n",
              "<table border=\"1\" class=\"dataframe\">\n",
              "  <thead>\n",
              "    <tr style=\"text-align: right;\">\n",
              "      <th></th>\n",
              "      <th>MinTemp</th>\n",
              "      <th>MaxTemp</th>\n",
              "      <th>Rainfall</th>\n",
              "      <th>Evaporation</th>\n",
              "      <th>Sunshine</th>\n",
              "      <th>WindGustSpeed</th>\n",
              "      <th>WindSpeed9am</th>\n",
              "      <th>WindSpeed3pm</th>\n",
              "      <th>Humidity9am</th>\n",
              "      <th>Humidity3pm</th>\n",
              "      <th>Pressure9am</th>\n",
              "      <th>Pressure3pm</th>\n",
              "      <th>Cloud9am</th>\n",
              "      <th>Cloud3pm</th>\n",
              "      <th>Temp9am</th>\n",
              "      <th>Temp3pm</th>\n",
              "    </tr>\n",
              "  </thead>\n",
              "  <tbody>\n",
              "    <tr>\n",
              "      <th>count</th>\n",
              "      <td>32057.000000</td>\n",
              "      <td>32186.000000</td>\n",
              "      <td>31871.000000</td>\n",
              "      <td>13492.000000</td>\n",
              "      <td>9040.000000</td>\n",
              "      <td>27704.000000</td>\n",
              "      <td>31727.000000</td>\n",
              "      <td>31081.000000</td>\n",
              "      <td>31890.000000</td>\n",
              "      <td>31225.000000</td>\n",
              "      <td>25872.000000</td>\n",
              "      <td>25875.000000</td>\n",
              "      <td>16745.000000</td>\n",
              "      <td>16415.000000</td>\n",
              "      <td>32119.000000</td>\n",
              "      <td>31450.000000</td>\n",
              "    </tr>\n",
              "    <tr>\n",
              "      <th>mean</th>\n",
              "      <td>13.205565</td>\n",
              "      <td>24.013211</td>\n",
              "      <td>2.631979</td>\n",
              "      <td>5.629314</td>\n",
              "      <td>7.642710</td>\n",
              "      <td>37.303783</td>\n",
              "      <td>12.029628</td>\n",
              "      <td>16.536791</td>\n",
              "      <td>70.612637</td>\n",
              "      <td>52.321633</td>\n",
              "      <td>1018.244678</td>\n",
              "      <td>1015.654860</td>\n",
              "      <td>4.316274</td>\n",
              "      <td>4.427109</td>\n",
              "      <td>17.772418</td>\n",
              "      <td>22.551237</td>\n",
              "    </tr>\n",
              "    <tr>\n",
              "      <th>std</th>\n",
              "      <td>5.808879</td>\n",
              "      <td>6.015886</td>\n",
              "      <td>9.356417</td>\n",
              "      <td>4.573872</td>\n",
              "      <td>3.758171</td>\n",
              "      <td>13.334088</td>\n",
              "      <td>8.983314</td>\n",
              "      <td>8.935051</td>\n",
              "      <td>17.616694</td>\n",
              "      <td>20.671632</td>\n",
              "      <td>6.590718</td>\n",
              "      <td>6.521007</td>\n",
              "      <td>2.957202</td>\n",
              "      <td>2.724176</td>\n",
              "      <td>5.354867</td>\n",
              "      <td>5.862433</td>\n",
              "    </tr>\n",
              "    <tr>\n",
              "      <th>min</th>\n",
              "      <td>-4.800000</td>\n",
              "      <td>6.800000</td>\n",
              "      <td>0.000000</td>\n",
              "      <td>0.000000</td>\n",
              "      <td>0.000000</td>\n",
              "      <td>7.000000</td>\n",
              "      <td>0.000000</td>\n",
              "      <td>0.000000</td>\n",
              "      <td>3.000000</td>\n",
              "      <td>1.000000</td>\n",
              "      <td>980.500000</td>\n",
              "      <td>979.000000</td>\n",
              "      <td>0.000000</td>\n",
              "      <td>0.000000</td>\n",
              "      <td>0.300000</td>\n",
              "      <td>6.400000</td>\n",
              "    </tr>\n",
              "    <tr>\n",
              "      <th>25%</th>\n",
              "      <td>8.900000</td>\n",
              "      <td>19.500000</td>\n",
              "      <td>0.000000</td>\n",
              "      <td>3.000000</td>\n",
              "      <td>5.100000</td>\n",
              "      <td>28.000000</td>\n",
              "      <td>6.000000</td>\n",
              "      <td>9.000000</td>\n",
              "      <td>59.000000</td>\n",
              "      <td>37.000000</td>\n",
              "      <td>1013.900000</td>\n",
              "      <td>1011.300000</td>\n",
              "      <td>1.000000</td>\n",
              "      <td>2.000000</td>\n",
              "      <td>14.000000</td>\n",
              "      <td>18.200000</td>\n",
              "    </tr>\n",
              "    <tr>\n",
              "      <th>50%</th>\n",
              "      <td>13.900000</td>\n",
              "      <td>23.400000</td>\n",
              "      <td>0.000000</td>\n",
              "      <td>4.600000</td>\n",
              "      <td>8.750000</td>\n",
              "      <td>35.000000</td>\n",
              "      <td>11.000000</td>\n",
              "      <td>15.000000</td>\n",
              "      <td>71.000000</td>\n",
              "      <td>53.000000</td>\n",
              "      <td>1018.300000</td>\n",
              "      <td>1015.700000</td>\n",
              "      <td>5.000000</td>\n",
              "      <td>5.000000</td>\n",
              "      <td>18.200000</td>\n",
              "      <td>21.900000</td>\n",
              "    </tr>\n",
              "    <tr>\n",
              "      <th>75%</th>\n",
              "      <td>17.800000</td>\n",
              "      <td>27.700000</td>\n",
              "      <td>0.600000</td>\n",
              "      <td>7.200000</td>\n",
              "      <td>10.500000</td>\n",
              "      <td>44.000000</td>\n",
              "      <td>19.000000</td>\n",
              "      <td>22.000000</td>\n",
              "      <td>84.000000</td>\n",
              "      <td>67.000000</td>\n",
              "      <td>1022.700000</td>\n",
              "      <td>1020.100000</td>\n",
              "      <td>7.000000</td>\n",
              "      <td>7.000000</td>\n",
              "      <td>21.700000</td>\n",
              "      <td>26.100000</td>\n",
              "    </tr>\n",
              "    <tr>\n",
              "      <th>max</th>\n",
              "      <td>29.700000</td>\n",
              "      <td>47.300000</td>\n",
              "      <td>371.000000</td>\n",
              "      <td>86.200000</td>\n",
              "      <td>14.000000</td>\n",
              "      <td>135.000000</td>\n",
              "      <td>130.000000</td>\n",
              "      <td>83.000000</td>\n",
              "      <td>100.000000</td>\n",
              "      <td>100.000000</td>\n",
              "      <td>1039.900000</td>\n",
              "      <td>1036.800000</td>\n",
              "      <td>9.000000</td>\n",
              "      <td>8.000000</td>\n",
              "      <td>37.700000</td>\n",
              "      <td>46.700000</td>\n",
              "    </tr>\n",
              "  </tbody>\n",
              "</table>\n",
              "</div>\n",
              "      <button class=\"colab-df-convert\" onclick=\"convertToInteractive('df-9cf249c0-0f4c-4c29-9258-7fe26bb4a70a')\"\n",
              "              title=\"Convert this dataframe to an interactive table.\"\n",
              "              style=\"display:none;\">\n",
              "        \n",
              "  <svg xmlns=\"http://www.w3.org/2000/svg\" height=\"24px\"viewBox=\"0 0 24 24\"\n",
              "       width=\"24px\">\n",
              "    <path d=\"M0 0h24v24H0V0z\" fill=\"none\"/>\n",
              "    <path d=\"M18.56 5.44l.94 2.06.94-2.06 2.06-.94-2.06-.94-.94-2.06-.94 2.06-2.06.94zm-11 1L8.5 8.5l.94-2.06 2.06-.94-2.06-.94L8.5 2.5l-.94 2.06-2.06.94zm10 10l.94 2.06.94-2.06 2.06-.94-2.06-.94-.94-2.06-.94 2.06-2.06.94z\"/><path d=\"M17.41 7.96l-1.37-1.37c-.4-.4-.92-.59-1.43-.59-.52 0-1.04.2-1.43.59L10.3 9.45l-7.72 7.72c-.78.78-.78 2.05 0 2.83L4 21.41c.39.39.9.59 1.41.59.51 0 1.02-.2 1.41-.59l7.78-7.78 2.81-2.81c.8-.78.8-2.07 0-2.86zM5.41 20L4 18.59l7.72-7.72 1.47 1.35L5.41 20z\"/>\n",
              "  </svg>\n",
              "      </button>\n",
              "      \n",
              "  <style>\n",
              "    .colab-df-container {\n",
              "      display:flex;\n",
              "      flex-wrap:wrap;\n",
              "      gap: 12px;\n",
              "    }\n",
              "\n",
              "    .colab-df-convert {\n",
              "      background-color: #E8F0FE;\n",
              "      border: none;\n",
              "      border-radius: 50%;\n",
              "      cursor: pointer;\n",
              "      display: none;\n",
              "      fill: #1967D2;\n",
              "      height: 32px;\n",
              "      padding: 0 0 0 0;\n",
              "      width: 32px;\n",
              "    }\n",
              "\n",
              "    .colab-df-convert:hover {\n",
              "      background-color: #E2EBFA;\n",
              "      box-shadow: 0px 1px 2px rgba(60, 64, 67, 0.3), 0px 1px 3px 1px rgba(60, 64, 67, 0.15);\n",
              "      fill: #174EA6;\n",
              "    }\n",
              "\n",
              "    [theme=dark] .colab-df-convert {\n",
              "      background-color: #3B4455;\n",
              "      fill: #D2E3FC;\n",
              "    }\n",
              "\n",
              "    [theme=dark] .colab-df-convert:hover {\n",
              "      background-color: #434B5C;\n",
              "      box-shadow: 0px 1px 3px 1px rgba(0, 0, 0, 0.15);\n",
              "      filter: drop-shadow(0px 1px 2px rgba(0, 0, 0, 0.3));\n",
              "      fill: #FFFFFF;\n",
              "    }\n",
              "  </style>\n",
              "\n",
              "      <script>\n",
              "        const buttonEl =\n",
              "          document.querySelector('#df-9cf249c0-0f4c-4c29-9258-7fe26bb4a70a button.colab-df-convert');\n",
              "        buttonEl.style.display =\n",
              "          google.colab.kernel.accessAllowed ? 'block' : 'none';\n",
              "\n",
              "        async function convertToInteractive(key) {\n",
              "          const element = document.querySelector('#df-9cf249c0-0f4c-4c29-9258-7fe26bb4a70a');\n",
              "          const dataTable =\n",
              "            await google.colab.kernel.invokeFunction('convertToInteractive',\n",
              "                                                     [key], {});\n",
              "          if (!dataTable) return;\n",
              "\n",
              "          const docLinkHtml = 'Like what you see? Visit the ' +\n",
              "            '<a target=\"_blank\" href=https://colab.research.google.com/notebooks/data_table.ipynb>data table notebook</a>'\n",
              "            + ' to learn more about interactive tables.';\n",
              "          element.innerHTML = '';\n",
              "          dataTable['output_type'] = 'display_data';\n",
              "          await google.colab.output.renderOutput(dataTable, element);\n",
              "          const docLink = document.createElement('div');\n",
              "          docLink.innerHTML = docLinkHtml;\n",
              "          element.appendChild(docLink);\n",
              "        }\n",
              "      </script>\n",
              "    </div>\n",
              "  </div>\n",
              "  "
            ]
          },
          "metadata": {},
          "execution_count": 4
        }
      ],
      "source": [
        "data.describe()"
      ]
    },
    {
      "cell_type": "code",
      "execution_count": 5,
      "metadata": {
        "colab": {
          "base_uri": "https://localhost:8080/"
        },
        "id": "dOstiaaObiPg",
        "outputId": "53946ef1-ed78-4402-dd0e-a6ce07827916"
      },
      "outputs": [
        {
          "output_type": "stream",
          "name": "stdout",
          "text": [
            "<class 'pandas.core.frame.DataFrame'>\n",
            "RangeIndex: 32555 entries, 0 to 32554\n",
            "Data columns (total 23 columns):\n",
            " #   Column         Non-Null Count  Dtype  \n",
            "---  ------         --------------  -----  \n",
            " 0   Date           32555 non-null  object \n",
            " 1   Location       32555 non-null  object \n",
            " 2   MinTemp        32057 non-null  float64\n",
            " 3   MaxTemp        32186 non-null  float64\n",
            " 4   Rainfall       31871 non-null  float64\n",
            " 5   Evaporation    13492 non-null  float64\n",
            " 6   Sunshine       9040 non-null   float64\n",
            " 7   WindGustDir    27700 non-null  object \n",
            " 8   WindGustSpeed  27704 non-null  float64\n",
            " 9   WindDir9am     28089 non-null  object \n",
            " 10  WindDir3pm     30457 non-null  object \n",
            " 11  WindSpeed9am   31727 non-null  float64\n",
            " 12  WindSpeed3pm   31081 non-null  float64\n",
            " 13  Humidity9am    31890 non-null  float64\n",
            " 14  Humidity3pm    31225 non-null  float64\n",
            " 15  Pressure9am    25872 non-null  float64\n",
            " 16  Pressure3pm    25875 non-null  float64\n",
            " 17  Cloud9am       16745 non-null  float64\n",
            " 18  Cloud3pm       16415 non-null  float64\n",
            " 19  Temp9am        32119 non-null  float64\n",
            " 20  Temp3pm        31450 non-null  float64\n",
            " 21  RainToday      31870 non-null  object \n",
            " 22  RainTomorrow   31870 non-null  object \n",
            "dtypes: float64(16), object(7)\n",
            "memory usage: 5.7+ MB\n"
          ]
        }
      ],
      "source": [
        "data.info()"
      ]
    },
    {
      "cell_type": "markdown",
      "metadata": {
        "id": "xVqwWwgZblZO"
      },
      "source": [
        "## **Handling missing values**"
      ]
    },
    {
      "cell_type": "code",
      "execution_count": 6,
      "metadata": {
        "colab": {
          "base_uri": "https://localhost:8080/",
          "height": 461
        },
        "id": "cRw9I6vebl9s",
        "outputId": "25dcc542-645a-4e21-cacb-c551f3193174"
      },
      "outputs": [
        {
          "output_type": "execute_result",
          "data": {
            "text/plain": [
              "<matplotlib.axes._subplots.AxesSubplot at 0x7f227ce48190>"
            ]
          },
          "metadata": {},
          "execution_count": 6
        },
        {
          "output_type": "display_data",
          "data": {
            "text/plain": [
              "<Figure size 1800x720 with 2 Axes>"
            ],
            "image/png": "[encoded data removed]"
          },
          "metadata": {
            "needs_background": "light"
          }
        }
      ],
      "source": [
        "import missingno as msno\n",
        "msno.matrix(data,color = (0.55,0.255,0.255), fontsize = 16)"
      ]
    },
    {
      "cell_type": "markdown",
      "metadata": {
        "id": "eu0bxcr4ea1J"
      },
      "source": [
        "removing columns with more than 20% missing values and segregatting cat and num variables"
      ]
    },
    {
      "cell_type": "code",
      "execution_count": 7,
      "metadata": {
        "id": "JxvyDjD1bpMW"
      },
      "outputs": [],
      "source": [
        "data_cat = data[['RainToday','WindGustDir','WindDir9am','WindDir3pm']]\n",
        "data.drop(columns=['Evaporation','Sunshine','Cloud9am','Cloud3pm'],axis=1,inplace=True)\n",
        "data.drop(columns=['RainToday','WindGustDir','WindDir9am','WindDir3pm'],axis=1,inplace=True)"
      ]
    },
    {
      "cell_type": "markdown",
      "metadata": {
        "id": "LTXzx_WHegRl"
      },
      "source": [
        "filling the missing data of numeric variables with mean"
      ]
    },
    {
      "cell_type": "code",
      "execution_count": 8,
      "metadata": {
        "id": "Y3EJE977crb9"
      },
      "outputs": [],
      "source": [
        "data['MinTemp'].fillna(data['MinTemp'].mean(), inplace=True)\n",
        "data['MaxTemp'].fillna(data['MaxTemp'].mean(), inplace=True)\n",
        "data['Rainfall'].fillna(data['Rainfall'].mean(), inplace=True)\n",
        "data['WindGustSpeed'].fillna(data['WindGustSpeed'].mean(), inplace=True) \n",
        "data['WindSpeed9am'].fillna(data['WindSpeed9am'].mean(), inplace=True)\n",
        "data['WindSpeed3pm'].fillna(data['WindSpeed3pm'].mean(),inplace=True) \n",
        "data['Humidity9am'].fillna (data['Humidity9am'].mean(), inplace=True)\n",
        "data['Humidity3pm'].fillna(data['Humidity3pm'].mean(),inplace=True)\n",
        "data['Pressure9am'].fillna (data['Pressure9am'].mean(), inplace=True) \n",
        "data['Pressure3pm'].fillna (data['Pressure3pm'].mean(), inplace=True)\n",
        "data['Temp9am'].fillna(data['Temp9am'].mean(), inplace=True)\n",
        "data['Temp3pm'].fillna(data['Temp3pm'].mean(), inplace=True)"
      ]
    },
    {
      "cell_type": "markdown",
      "metadata": {
        "id": "Xy2F8PnQeo1f"
      },
      "source": [
        "Loading the names of categorical columns"
      ]
    },
    {
      "cell_type": "code",
      "execution_count": 9,
      "metadata": {
        "id": "5Er6NdrNdOhV"
      },
      "outputs": [],
      "source": [
        "cat_names= data_cat.columns"
      ]
    },
    {
      "cell_type": "markdown",
      "metadata": {
        "id": "6xVmpJxsexwG"
      },
      "source": [
        "intializing the simple imputer for missing categorical values"
      ]
    },
    {
      "cell_type": "code",
      "execution_count": 10,
      "metadata": {
        "id": "2qeFC-zcdQY-"
      },
      "outputs": [],
      "source": [
        "import numpy as np\n",
        "from sklearn.impute import SimpleImputer\n",
        "imp_mode = SimpleImputer(missing_values = np.nan, strategy = 'most_frequent')"
      ]
    },
    {
      "cell_type": "markdown",
      "metadata": {
        "id": "iLBPbHZSe4EQ"
      },
      "source": [
        "fitting and transforming the missing data"
      ]
    },
    {
      "cell_type": "code",
      "execution_count": 11,
      "metadata": {
        "id": "vmqNcZj5d-xm"
      },
      "outputs": [],
      "source": [
        "data_cat = imp_mode.fit_transform(data_cat)"
      ]
    },
    {
      "cell_type": "markdown",
      "metadata": {
        "id": "OKWYNq96e771"
      },
      "source": [
        "converting array to dataframe"
      ]
    },
    {
      "cell_type": "code",
      "execution_count": 12,
      "metadata": {
        "id": "PcuR7BleeFRB"
      },
      "outputs": [],
      "source": [
        "data_cat = pd.DataFrame(data_cat,columns=cat_names)"
      ]
    },
    {
      "cell_type": "markdown",
      "metadata": {
        "id": "m5Ggw4qgfDpu"
      },
      "source": [
        "concatinating the categorical and numeric data"
      ]
    },
    {
      "cell_type": "code",
      "execution_count": 13,
      "metadata": {
        "id": "Nr_C29tzeOzv"
      },
      "outputs": [],
      "source": [
        "data = pd.concat([data,data_cat],axis=1)"
      ]
    },
    {
      "cell_type": "markdown",
      "metadata": {
        "id": "sFCNPetrfO6x"
      },
      "source": [
        "## **Data Visualization**"
      ]
    },
    {
      "cell_type": "code",
      "execution_count": 14,
      "metadata": {
        "colab": {
          "base_uri": "https://localhost:8080/",
          "height": 490
        },
        "id": "WI0IZ-9ffPs5",
        "outputId": "1eb00179-f386-42d1-87c2-4c4385e5743f"
      },
      "outputs": [
        {
          "output_type": "execute_result",
          "data": {
            "text/plain": [
              "                MinTemp   MaxTemp  Rainfall  WindGustSpeed  WindSpeed9am  \\\n",
              "MinTemp        1.000000  0.653695  0.106957       0.314895      0.272496   \n",
              "MaxTemp        0.653695  1.000000 -0.090026       0.177693      0.006906   \n",
              "Rainfall       0.106957 -0.090026  1.000000       0.130564      0.121547   \n",
              "WindGustSpeed  0.314895  0.177693  0.130564       1.000000      0.493258   \n",
              "WindSpeed9am   0.272496  0.006906  0.121547       0.493258      1.000000   \n",
              "WindSpeed3pm   0.220488  0.040071  0.061152       0.624241      0.480092   \n",
              "Humidity9am   -0.096747 -0.346396  0.234219      -0.236733     -0.312334   \n",
              "Humidity3pm    0.182573 -0.425530  0.257289       0.001802      0.039113   \n",
              "Pressure9am   -0.407460 -0.341372 -0.103035      -0.399532     -0.156192   \n",
              "Pressure3pm   -0.372754 -0.403157 -0.066494      -0.366048     -0.099757   \n",
              "Temp9am        0.890455  0.822482  0.006475       0.310115      0.221262   \n",
              "Temp3pm        0.612992  0.967380 -0.091933       0.135207     -0.004414   \n",
              "\n",
              "               WindSpeed3pm  Humidity9am  Humidity3pm  Pressure9am  \\\n",
              "MinTemp            0.220488    -0.096747     0.182573    -0.407460   \n",
              "MaxTemp            0.040071    -0.346396    -0.425530    -0.341372   \n",
              "Rainfall           0.061152     0.234219     0.257289    -0.103035   \n",
              "WindGustSpeed      0.624241    -0.236733     0.001802    -0.399532   \n",
              "WindSpeed9am       0.480092    -0.312334     0.039113    -0.156192   \n",
              "WindSpeed3pm       1.000000    -0.188459     0.056042    -0.245420   \n",
              "Humidity9am       -0.188459     1.000000     0.611665     0.140695   \n",
              "Humidity3pm        0.056042     0.611665     1.000000     0.033770   \n",
              "Pressure9am       -0.245420     0.140695     0.033770     1.000000   \n",
              "Pressure3pm       -0.201828     0.151372     0.101599     0.960857   \n",
              "Temp9am            0.220029    -0.352248    -0.063593    -0.410585   \n",
              "Temp3pm            0.011145    -0.340232    -0.490657    -0.309853   \n",
              "\n",
              "               Pressure3pm   Temp9am   Temp3pm  \n",
              "MinTemp          -0.372754  0.890455  0.612992  \n",
              "MaxTemp          -0.403157  0.822482  0.967380  \n",
              "Rainfall         -0.066494  0.006475 -0.091933  \n",
              "WindGustSpeed    -0.366048  0.310115  0.135207  \n",
              "WindSpeed9am     -0.099757  0.221262 -0.004414  \n",
              "WindSpeed3pm     -0.201828  0.220029  0.011145  \n",
              "Humidity9am       0.151372 -0.352248 -0.340232  \n",
              "Humidity3pm       0.101599 -0.063593 -0.490657  \n",
              "Pressure9am       0.960857 -0.410585 -0.309853  \n",
              "Pressure3pm       1.000000 -0.408761 -0.379688  \n",
              "Temp9am          -0.408761  1.000000  0.779808  \n",
              "Temp3pm          -0.379688  0.779808  1.000000  "
            ],
            "text/html": [
              "\n",
              "  <div id=\"df-03ecc292-babc-427a-89ad-96d9c8878778\">\n",
              "    <div class=\"colab-df-container\">\n",
              "      <div>\n",
              "<style scoped>\n",
              "    .dataframe tbody tr th:only-of-type {\n",
              "        vertical-align: middle;\n",
              "    }\n",
              "\n",
              "    .dataframe tbody tr th {\n",
              "        vertical-align: top;\n",
              "    }\n",
              "\n",
              "    .dataframe thead th {\n",
              "        text-align: right;\n",
              "    }\n",
              "</style>\n",
              "<table border=\"1\" class=\"dataframe\">\n",
              "  <thead>\n",
              "    <tr style=\"text-align: right;\">\n",
              "      <th></th>\n",
              "      <th>MinTemp</th>\n",
              "      <th>MaxTemp</th>\n",
              "      <th>Rainfall</th>\n",
              "      <th>WindGustSpeed</th>\n",
              "      <th>WindSpeed9am</th>\n",
              "      <th>WindSpeed3pm</th>\n",
              "      <th>Humidity9am</th>\n",
              "      <th>Humidity3pm</th>\n",
              "      <th>Pressure9am</th>\n",
              "      <th>Pressure3pm</th>\n",
              "      <th>Temp9am</th>\n",
              "      <th>Temp3pm</th>\n",
              "    </tr>\n",
              "  </thead>\n",
              "  <tbody>\n",
              "    <tr>\n",
              "      <th>MinTemp</th>\n",
              "      <td>1.000000</td>\n",
              "      <td>0.653695</td>\n",
              "      <td>0.106957</td>\n",
              "      <td>0.314895</td>\n",
              "      <td>0.272496</td>\n",
              "      <td>0.220488</td>\n",
              "      <td>-0.096747</td>\n",
              "      <td>0.182573</td>\n",
              "      <td>-0.407460</td>\n",
              "      <td>-0.372754</td>\n",
              "      <td>0.890455</td>\n",
              "      <td>0.612992</td>\n",
              "    </tr>\n",
              "    <tr>\n",
              "      <th>MaxTemp</th>\n",
              "      <td>0.653695</td>\n",
              "      <td>1.000000</td>\n",
              "      <td>-0.090026</td>\n",
              "      <td>0.177693</td>\n",
              "      <td>0.006906</td>\n",
              "      <td>0.040071</td>\n",
              "      <td>-0.346396</td>\n",
              "      <td>-0.425530</td>\n",
              "      <td>-0.341372</td>\n",
              "      <td>-0.403157</td>\n",
              "      <td>0.822482</td>\n",
              "      <td>0.967380</td>\n",
              "    </tr>\n",
              "    <tr>\n",
              "      <th>Rainfall</th>\n",
              "      <td>0.106957</td>\n",
              "      <td>-0.090026</td>\n",
              "      <td>1.000000</td>\n",
              "      <td>0.130564</td>\n",
              "      <td>0.121547</td>\n",
              "      <td>0.061152</td>\n",
              "      <td>0.234219</td>\n",
              "      <td>0.257289</td>\n",
              "      <td>-0.103035</td>\n",
              "      <td>-0.066494</td>\n",
              "      <td>0.006475</td>\n",
              "      <td>-0.091933</td>\n",
              "    </tr>\n",
              "    <tr>\n",
              "      <th>WindGustSpeed</th>\n",
              "      <td>0.314895</td>\n",
              "      <td>0.177693</td>\n",
              "      <td>0.130564</td>\n",
              "      <td>1.000000</td>\n",
              "      <td>0.493258</td>\n",
              "      <td>0.624241</td>\n",
              "      <td>-0.236733</td>\n",
              "      <td>0.001802</td>\n",
              "      <td>-0.399532</td>\n",
              "      <td>-0.366048</td>\n",
              "      <td>0.310115</td>\n",
              "      <td>0.135207</td>\n",
              "    </tr>\n",
              "    <tr>\n",
              "      <th>WindSpeed9am</th>\n",
              "      <td>0.272496</td>\n",
              "      <td>0.006906</td>\n",
              "      <td>0.121547</td>\n",
              "      <td>0.493258</td>\n",
              "      <td>1.000000</td>\n",
              "      <td>0.480092</td>\n",
              "      <td>-0.312334</td>\n",
              "      <td>0.039113</td>\n",
              "      <td>-0.156192</td>\n",
              "      <td>-0.099757</td>\n",
              "      <td>0.221262</td>\n",
              "      <td>-0.004414</td>\n",
              "    </tr>\n",
              "    <tr>\n",
              "      <th>WindSpeed3pm</th>\n",
              "      <td>0.220488</td>\n",
              "      <td>0.040071</td>\n",
              "      <td>0.061152</td>\n",
              "      <td>0.624241</td>\n",
              "      <td>0.480092</td>\n",
              "      <td>1.000000</td>\n",
              "      <td>-0.188459</td>\n",
              "      <td>0.056042</td>\n",
              "      <td>-0.245420</td>\n",
              "      <td>-0.201828</td>\n",
              "      <td>0.220029</td>\n",
              "      <td>0.011145</td>\n",
              "    </tr>\n",
              "    <tr>\n",
              "      <th>Humidity9am</th>\n",
              "      <td>-0.096747</td>\n",
              "      <td>-0.346396</td>\n",
              "      <td>0.234219</td>\n",
              "      <td>-0.236733</td>\n",
              "      <td>-0.312334</td>\n",
              "      <td>-0.188459</td>\n",
              "      <td>1.000000</td>\n",
              "      <td>0.611665</td>\n",
              "      <td>0.140695</td>\n",
              "      <td>0.151372</td>\n",
              "      <td>-0.352248</td>\n",
              "      <td>-0.340232</td>\n",
              "    </tr>\n",
              "    <tr>\n",
              "      <th>Humidity3pm</th>\n",
              "      <td>0.182573</td>\n",
              "      <td>-0.425530</td>\n",
              "      <td>0.257289</td>\n",
              "      <td>0.001802</td>\n",
              "      <td>0.039113</td>\n",
              "      <td>0.056042</td>\n",
              "      <td>0.611665</td>\n",
              "      <td>1.000000</td>\n",
              "      <td>0.033770</td>\n",
              "      <td>0.101599</td>\n",
              "      <td>-0.063593</td>\n",
              "      <td>-0.490657</td>\n",
              "    </tr>\n",
              "    <tr>\n",
              "      <th>Pressure9am</th>\n",
              "      <td>-0.407460</td>\n",
              "      <td>-0.341372</td>\n",
              "      <td>-0.103035</td>\n",
              "      <td>-0.399532</td>\n",
              "      <td>-0.156192</td>\n",
              "      <td>-0.245420</td>\n",
              "      <td>0.140695</td>\n",
              "      <td>0.033770</td>\n",
              "      <td>1.000000</td>\n",
              "      <td>0.960857</td>\n",
              "      <td>-0.410585</td>\n",
              "      <td>-0.309853</td>\n",
              "    </tr>\n",
              "    <tr>\n",
              "      <th>Pressure3pm</th>\n",
              "      <td>-0.372754</td>\n",
              "      <td>-0.403157</td>\n",
              "      <td>-0.066494</td>\n",
              "      <td>-0.366048</td>\n",
              "      <td>-0.099757</td>\n",
              "      <td>-0.201828</td>\n",
              "      <td>0.151372</td>\n",
              "      <td>0.101599</td>\n",
              "      <td>0.960857</td>\n",
              "      <td>1.000000</td>\n",
              "      <td>-0.408761</td>\n",
              "      <td>-0.379688</td>\n",
              "    </tr>\n",
              "    <tr>\n",
              "      <th>Temp9am</th>\n",
              "      <td>0.890455</td>\n",
              "      <td>0.822482</td>\n",
              "      <td>0.006475</td>\n",
              "      <td>0.310115</td>\n",
              "      <td>0.221262</td>\n",
              "      <td>0.220029</td>\n",
              "      <td>-0.352248</td>\n",
              "      <td>-0.063593</td>\n",
              "      <td>-0.410585</td>\n",
              "      <td>-0.408761</td>\n",
              "      <td>1.000000</td>\n",
              "      <td>0.779808</td>\n",
              "    </tr>\n",
              "    <tr>\n",
              "      <th>Temp3pm</th>\n",
              "      <td>0.612992</td>\n",
              "      <td>0.967380</td>\n",
              "      <td>-0.091933</td>\n",
              "      <td>0.135207</td>\n",
              "      <td>-0.004414</td>\n",
              "      <td>0.011145</td>\n",
              "      <td>-0.340232</td>\n",
              "      <td>-0.490657</td>\n",
              "      <td>-0.309853</td>\n",
              "      <td>-0.379688</td>\n",
              "      <td>0.779808</td>\n",
              "      <td>1.000000</td>\n",
              "    </tr>\n",
              "  </tbody>\n",
              "</table>\n",
              "</div>\n",
              "      <button class=\"colab-df-convert\" onclick=\"convertToInteractive('df-03ecc292-babc-427a-89ad-96d9c8878778')\"\n",
              "              title=\"Convert this dataframe to an interactive table.\"\n",
              "              style=\"display:none;\">\n",
              "        \n",
              "  <svg xmlns=\"http://www.w3.org/2000/svg\" height=\"24px\"viewBox=\"0 0 24 24\"\n",
              "       width=\"24px\">\n",
              "    <path d=\"M0 0h24v24H0V0z\" fill=\"none\"/>\n",
              "    <path d=\"M18.56 5.44l.94 2.06.94-2.06 2.06-.94-2.06-.94-.94-2.06-.94 2.06-2.06.94zm-11 1L8.5 8.5l.94-2.06 2.06-.94-2.06-.94L8.5 2.5l-.94 2.06-2.06.94zm10 10l.94 2.06.94-2.06 2.06-.94-2.06-.94-.94-2.06-.94 2.06-2.06.94z\"/><path d=\"M17.41 7.96l-1.37-1.37c-.4-.4-.92-.59-1.43-.59-.52 0-1.04.2-1.43.59L10.3 9.45l-7.72 7.72c-.78.78-.78 2.05 0 2.83L4 21.41c.39.39.9.59 1.41.59.51 0 1.02-.2 1.41-.59l7.78-7.78 2.81-2.81c.8-.78.8-2.07 0-2.86zM5.41 20L4 18.59l7.72-7.72 1.47 1.35L5.41 20z\"/>\n",
              "  </svg>\n",
              "      </button>\n",
              "      \n",
              "  <style>\n",
              "    .colab-df-container {\n",
              "      display:flex;\n",
              "      flex-wrap:wrap;\n",
              "      gap: 12px;\n",
              "    }\n",
              "\n",
              "    .colab-df-convert {\n",
              "      background-color: #E8F0FE;\n",
              "      border: none;\n",
              "      border-radius: 50%;\n",
              "      cursor: pointer;\n",
              "      display: none;\n",
              "      fill: #1967D2;\n",
              "      height: 32px;\n",
              "      padding: 0 0 0 0;\n",
              "      width: 32px;\n",
              "    }\n",
              "\n",
              "    .colab-df-convert:hover {\n",
              "      background-color: #E2EBFA;\n",
              "      box-shadow: 0px 1px 2px rgba(60, 64, 67, 0.3), 0px 1px 3px 1px rgba(60, 64, 67, 0.15);\n",
              "      fill: #174EA6;\n",
              "    }\n",
              "\n",
              "    [theme=dark] .colab-df-convert {\n",
              "      background-color: #3B4455;\n",
              "      fill: #D2E3FC;\n",
              "    }\n",
              "\n",
              "    [theme=dark] .colab-df-convert:hover {\n",
              "      background-color: #434B5C;\n",
              "      box-shadow: 0px 1px 3px 1px rgba(0, 0, 0, 0.15);\n",
              "      filter: drop-shadow(0px 1px 2px rgba(0, 0, 0, 0.3));\n",
              "      fill: #FFFFFF;\n",
              "    }\n",
              "  </style>\n",
              "\n",
              "      <script>\n",
              "        const buttonEl =\n",
              "          document.querySelector('#df-03ecc292-babc-427a-89ad-96d9c8878778 button.colab-df-convert');\n",
              "        buttonEl.style.display =\n",
              "          google.colab.kernel.accessAllowed ? 'block' : 'none';\n",
              "\n",
              "        async function convertToInteractive(key) {\n",
              "          const element = document.querySelector('#df-03ecc292-babc-427a-89ad-96d9c8878778');\n",
              "          const dataTable =\n",
              "            await google.colab.kernel.invokeFunction('convertToInteractive',\n",
              "                                                     [key], {});\n",
              "          if (!dataTable) return;\n",
              "\n",
              "          const docLinkHtml = 'Like what you see? Visit the ' +\n",
              "            '<a target=\"_blank\" href=https://colab.research.google.com/notebooks/data_table.ipynb>data table notebook</a>'\n",
              "            + ' to learn more about interactive tables.';\n",
              "          element.innerHTML = '';\n",
              "          dataTable['output_type'] = 'display_data';\n",
              "          await google.colab.output.renderOutput(dataTable, element);\n",
              "          const docLink = document.createElement('div');\n",
              "          docLink.innerHTML = docLinkHtml;\n",
              "          element.appendChild(docLink);\n",
              "        }\n",
              "      </script>\n",
              "    </div>\n",
              "  </div>\n",
              "  "
            ]
          },
          "metadata": {},
          "execution_count": 14
        }
      ],
      "source": [
        "data.corr()"
      ]
    },
    {
      "cell_type": "code",
      "execution_count": 15,
      "metadata": {
        "id": "hgkttHjgfYKD"
      },
      "outputs": [],
      "source": [
        "cor = data.corr()"
      ]
    },
    {
      "cell_type": "code",
      "execution_count": 16,
      "metadata": {
        "colab": {
          "base_uri": "https://localhost:8080/",
          "height": 356
        },
        "id": "9_CN9rNcfeEk",
        "outputId": "6c545ba5-ccab-4f03-cc5e-a46c2ef6944d"
      },
      "outputs": [
        {
          "output_type": "execute_result",
          "data": {
            "text/plain": [
              "<matplotlib.axes._subplots.AxesSubplot at 0x7f227a520b90>"
            ]
          },
          "metadata": {},
          "execution_count": 16
        },
        {
          "output_type": "display_data",
          "data": {
            "text/plain": [
              "<Figure size 432x288 with 2 Axes>"
            ],
            "image/png": "[encoded data removed]"
          },
          "metadata": {
            "needs_background": "light"
          }
        }
      ],
      "source": [
        "sns.heatmap(data=cor,xticklabels=cor.columns.values,yticklabels=cor.columns.values)"
      ]
    },
    {
      "cell_type": "markdown",
      "metadata": {
        "id": "eSW20ZQOgKYE"
      },
      "source": [
        "## **Splitting The Dateset Into Dependent And Independent Variable**"
      ]
    },
    {
      "cell_type": "code",
      "execution_count": 17,
      "metadata": {
        "id": "fzXVL8NUgK9E"
      },
      "outputs": [],
      "source": [
        "y = data['RainTomorrow']\n",
        "x = data.drop('RainTomorrow',axis=1)"
      ]
    },
    {
      "cell_type": "markdown",
      "metadata": {
        "id": "eY_tKJPtgodO"
      },
      "source": [
        "## **Feature Scaling**"
      ]
    },
    {
      "cell_type": "markdown",
      "metadata": {
        "id": "bSrHONoSgvrS"
      },
      "source": [
        "standardizing the data"
      ]
    },
    {
      "cell_type": "code",
      "execution_count": 18,
      "metadata": {
        "id": "rQLCNyITgqvT"
      },
      "outputs": [],
      "source": [
        "from sklearn.preprocessing import StandardScaler"
      ]
    },
    {
      "cell_type": "code",
      "execution_count": 19,
      "metadata": {
        "id": "8VUgsnsuhCe3"
      },
      "outputs": [],
      "source": [
        "y = data['RainTomorrow']\n",
        "x = data.drop('RainTomorrow',axis=1)"
      ]
    },
    {
      "cell_type": "code",
      "execution_count": 20,
      "metadata": {
        "id": "V9L-fGzB8kKo"
      },
      "outputs": [],
      "source": [
        "x=x.drop('Date',axis=1)"
      ]
    },
    {
      "cell_type": "code",
      "execution_count": 21,
      "metadata": {
        "id": "FSmc48DEhO2g"
      },
      "outputs": [],
      "source": [
        "names = x.columns"
      ]
    },
    {
      "cell_type": "code",
      "execution_count": 22,
      "metadata": {
        "colab": {
          "base_uri": "https://localhost:8080/"
        },
        "id": "gAHYidcKhUs0",
        "outputId": "7062050c-2c56-4634-94e2-b8e84ffd17f3"
      },
      "outputs": [
        {
          "output_type": "execute_result",
          "data": {
            "text/plain": [
              "Index(['Location', 'MinTemp', 'MaxTemp', 'Rainfall', 'WindGustSpeed',\n",
              "       'WindSpeed9am', 'WindSpeed3pm', 'Humidity9am', 'Humidity3pm',\n",
              "       'Pressure9am', 'Pressure3pm', 'Temp9am', 'Temp3pm', 'RainToday',\n",
              "       'WindGustDir', 'WindDir9am', 'WindDir3pm'],\n",
              "      dtype='object')"
            ]
          },
          "metadata": {},
          "execution_count": 22
        }
      ],
      "source": [
        "names"
      ]
    },
    {
      "cell_type": "code",
      "execution_count": 23,
      "metadata": {
        "id": "iC6x7pslhW3X"
      },
      "outputs": [],
      "source": [
        "sc = StandardScaler()"
      ]
    },
    {
      "cell_type": "code",
      "execution_count": 24,
      "metadata": {
        "id": "TAmkbNYV8o7l"
      },
      "outputs": [],
      "source": [
        "from sklearn.preprocessing import LabelEncoder, MinMaxScaler"
      ]
    },
    {
      "cell_type": "code",
      "execution_count": 25,
      "metadata": {
        "colab": {
          "base_uri": "https://localhost:8080/"
        },
        "id": "k0LIFUxo8pGj",
        "outputId": "56eb5616-2945-4f89-9696-1a5bf4ca4ffa"
      },
      "outputs": [
        {
          "output_type": "stream",
          "name": "stdout",
          "text": [
            "32555 32555\n"
          ]
        }
      ],
      "source": [
        "print(len(x),len(y))"
      ]
    },
    {
      "cell_type": "markdown",
      "metadata": {
        "id": "ziXbV_OB86mk"
      },
      "source": [
        "Label Encoding"
      ]
    },
    {
      "cell_type": "code",
      "execution_count": 26,
      "metadata": {
        "colab": {
          "base_uri": "https://localhost:8080/",
          "height": 270
        },
        "id": "rD8Zm-dY85YF",
        "outputId": "3227e749-8682-4c7d-e5b6-f29d3526c361"
      },
      "outputs": [
        {
          "output_type": "execute_result",
          "data": {
            "text/plain": [
              "   Location  MinTemp  MaxTemp  Rainfall  WindGustSpeed  WindSpeed9am  \\\n",
              "0         0     13.4     22.9       0.6           44.0          20.0   \n",
              "1         0      7.4     25.1       0.0           44.0           4.0   \n",
              "2         0     12.9     25.7       0.0           46.0          19.0   \n",
              "3         0      9.2     28.0       0.0           24.0          11.0   \n",
              "4         0     17.5     32.3       1.0           41.0           7.0   \n",
              "\n",
              "   WindSpeed3pm  Humidity9am  Humidity3pm  Pressure9am  Pressure3pm  Temp9am  \\\n",
              "0          24.0         71.0         22.0       1007.7       1007.1     16.9   \n",
              "1          22.0         44.0         25.0       1010.6       1007.8     17.2   \n",
              "2          26.0         38.0         30.0       1007.6       1008.7     21.0   \n",
              "3           9.0         45.0         16.0       1017.6       1012.8     18.1   \n",
              "4          20.0         82.0         33.0       1010.8       1006.0     17.8   \n",
              "\n",
              "   Temp3pm  RainToday  WindGustDir  WindDir9am  WindDir3pm  \n",
              "0     21.8          0           13          13          14  \n",
              "1     24.3          0           14           6          15  \n",
              "2     23.2          0           15          13          15  \n",
              "3     26.5          0            4           9           0  \n",
              "4     29.7          0           13           1           7  "
            ],
            "text/html": [
              "\n",
              "  <div id=\"df-93e2b950-6ca7-45c7-b199-76c40941740f\">\n",
              "    <div class=\"colab-df-container\">\n",
              "      <div>\n",
              "<style scoped>\n",
              "    .dataframe tbody tr th:only-of-type {\n",
              "        vertical-align: middle;\n",
              "    }\n",
              "\n",
              "    .dataframe tbody tr th {\n",
              "        vertical-align: top;\n",
              "    }\n",
              "\n",
              "    .dataframe thead th {\n",
              "        text-align: right;\n",
              "    }\n",
              "</style>\n",
              "<table border=\"1\" class=\"dataframe\">\n",
              "  <thead>\n",
              "    <tr style=\"text-align: right;\">\n",
              "      <th></th>\n",
              "      <th>Location</th>\n",
              "      <th>MinTemp</th>\n",
              "      <th>MaxTemp</th>\n",
              "      <th>Rainfall</th>\n",
              "      <th>WindGustSpeed</th>\n",
              "      <th>WindSpeed9am</th>\n",
              "      <th>WindSpeed3pm</th>\n",
              "      <th>Humidity9am</th>\n",
              "      <th>Humidity3pm</th>\n",
              "      <th>Pressure9am</th>\n",
              "      <th>Pressure3pm</th>\n",
              "      <th>Temp9am</th>\n",
              "      <th>Temp3pm</th>\n",
              "      <th>RainToday</th>\n",
              "      <th>WindGustDir</th>\n",
              "      <th>WindDir9am</th>\n",
              "      <th>WindDir3pm</th>\n",
              "    </tr>\n",
              "  </thead>\n",
              "  <tbody>\n",
              "    <tr>\n",
              "      <th>0</th>\n",
              "      <td>0</td>\n",
              "      <td>13.4</td>\n",
              "      <td>22.9</td>\n",
              "      <td>0.6</td>\n",
              "      <td>44.0</td>\n",
              "      <td>20.0</td>\n",
              "      <td>24.0</td>\n",
              "      <td>71.0</td>\n",
              "      <td>22.0</td>\n",
              "      <td>1007.7</td>\n",
              "      <td>1007.1</td>\n",
              "      <td>16.9</td>\n",
              "      <td>21.8</td>\n",
              "      <td>0</td>\n",
              "      <td>13</td>\n",
              "      <td>13</td>\n",
              "      <td>14</td>\n",
              "    </tr>\n",
              "    <tr>\n",
              "      <th>1</th>\n",
              "      <td>0</td>\n",
              "      <td>7.4</td>\n",
              "      <td>25.1</td>\n",
              "      <td>0.0</td>\n",
              "      <td>44.0</td>\n",
              "      <td>4.0</td>\n",
              "      <td>22.0</td>\n",
              "      <td>44.0</td>\n",
              "      <td>25.0</td>\n",
              "      <td>1010.6</td>\n",
              "      <td>1007.8</td>\n",
              "      <td>17.2</td>\n",
              "      <td>24.3</td>\n",
              "      <td>0</td>\n",
              "      <td>14</td>\n",
              "      <td>6</td>\n",
              "      <td>15</td>\n",
              "    </tr>\n",
              "    <tr>\n",
              "      <th>2</th>\n",
              "      <td>0</td>\n",
              "      <td>12.9</td>\n",
              "      <td>25.7</td>\n",
              "      <td>0.0</td>\n",
              "      <td>46.0</td>\n",
              "      <td>19.0</td>\n",
              "      <td>26.0</td>\n",
              "      <td>38.0</td>\n",
              "      <td>30.0</td>\n",
              "      <td>1007.6</td>\n",
              "      <td>1008.7</td>\n",
              "      <td>21.0</td>\n",
              "      <td>23.2</td>\n",
              "      <td>0</td>\n",
              "      <td>15</td>\n",
              "      <td>13</td>\n",
              "      <td>15</td>\n",
              "    </tr>\n",
              "    <tr>\n",
              "      <th>3</th>\n",
              "      <td>0</td>\n",
              "      <td>9.2</td>\n",
              "      <td>28.0</td>\n",
              "      <td>0.0</td>\n",
              "      <td>24.0</td>\n",
              "      <td>11.0</td>\n",
              "      <td>9.0</td>\n",
              "      <td>45.0</td>\n",
              "      <td>16.0</td>\n",
              "      <td>1017.6</td>\n",
              "      <td>1012.8</td>\n",
              "      <td>18.1</td>\n",
              "      <td>26.5</td>\n",
              "      <td>0</td>\n",
              "      <td>4</td>\n",
              "      <td>9</td>\n",
              "      <td>0</td>\n",
              "    </tr>\n",
              "    <tr>\n",
              "      <th>4</th>\n",
              "      <td>0</td>\n",
              "      <td>17.5</td>\n",
              "      <td>32.3</td>\n",
              "      <td>1.0</td>\n",
              "      <td>41.0</td>\n",
              "      <td>7.0</td>\n",
              "      <td>20.0</td>\n",
              "      <td>82.0</td>\n",
              "      <td>33.0</td>\n",
              "      <td>1010.8</td>\n",
              "      <td>1006.0</td>\n",
              "      <td>17.8</td>\n",
              "      <td>29.7</td>\n",
              "      <td>0</td>\n",
              "      <td>13</td>\n",
              "      <td>1</td>\n",
              "      <td>7</td>\n",
              "    </tr>\n",
              "  </tbody>\n",
              "</table>\n",
              "</div>\n",
              "      <button class=\"colab-df-convert\" onclick=\"convertToInteractive('df-93e2b950-6ca7-45c7-b199-76c40941740f')\"\n",
              "              title=\"Convert this dataframe to an interactive table.\"\n",
              "              style=\"display:none;\">\n",
              "        \n",
              "  <svg xmlns=\"http://www.w3.org/2000/svg\" height=\"24px\"viewBox=\"0 0 24 24\"\n",
              "       width=\"24px\">\n",
              "    <path d=\"M0 0h24v24H0V0z\" fill=\"none\"/>\n",
              "    <path d=\"M18.56 5.44l.94 2.06.94-2.06 2.06-.94-2.06-.94-.94-2.06-.94 2.06-2.06.94zm-11 1L8.5 8.5l.94-2.06 2.06-.94-2.06-.94L8.5 2.5l-.94 2.06-2.06.94zm10 10l.94 2.06.94-2.06 2.06-.94-2.06-.94-.94-2.06-.94 2.06-2.06.94z\"/><path d=\"M17.41 7.96l-1.37-1.37c-.4-.4-.92-.59-1.43-.59-.52 0-1.04.2-1.43.59L10.3 9.45l-7.72 7.72c-.78.78-.78 2.05 0 2.83L4 21.41c.39.39.9.59 1.41.59.51 0 1.02-.2 1.41-.59l7.78-7.78 2.81-2.81c.8-.78.8-2.07 0-2.86zM5.41 20L4 18.59l7.72-7.72 1.47 1.35L5.41 20z\"/>\n",
              "  </svg>\n",
              "      </button>\n",
              "      \n",
              "  <style>\n",
              "    .colab-df-container {\n",
              "      display:flex;\n",
              "      flex-wrap:wrap;\n",
              "      gap: 12px;\n",
              "    }\n",
              "\n",
              "    .colab-df-convert {\n",
              "      background-color: #E8F0FE;\n",
              "      border: none;\n",
              "      border-radius: 50%;\n",
              "      cursor: pointer;\n",
              "      display: none;\n",
              "      fill: #1967D2;\n",
              "      height: 32px;\n",
              "      padding: 0 0 0 0;\n",
              "      width: 32px;\n",
              "    }\n",
              "\n",
              "    .colab-df-convert:hover {\n",
              "      background-color: #E2EBFA;\n",
              "      box-shadow: 0px 1px 2px rgba(60, 64, 67, 0.3), 0px 1px 3px 1px rgba(60, 64, 67, 0.15);\n",
              "      fill: #174EA6;\n",
              "    }\n",
              "\n",
              "    [theme=dark] .colab-df-convert {\n",
              "      background-color: #3B4455;\n",
              "      fill: #D2E3FC;\n",
              "    }\n",
              "\n",
              "    [theme=dark] .colab-df-convert:hover {\n",
              "      background-color: #434B5C;\n",
              "      box-shadow: 0px 1px 3px 1px rgba(0, 0, 0, 0.15);\n",
              "      filter: drop-shadow(0px 1px 2px rgba(0, 0, 0, 0.3));\n",
              "      fill: #FFFFFF;\n",
              "    }\n",
              "  </style>\n",
              "\n",
              "      <script>\n",
              "        const buttonEl =\n",
              "          document.querySelector('#df-93e2b950-6ca7-45c7-b199-76c40941740f button.colab-df-convert');\n",
              "        buttonEl.style.display =\n",
              "          google.colab.kernel.accessAllowed ? 'block' : 'none';\n",
              "\n",
              "        async function convertToInteractive(key) {\n",
              "          const element = document.querySelector('#df-93e2b950-6ca7-45c7-b199-76c40941740f');\n",
              "          const dataTable =\n",
              "            await google.colab.kernel.invokeFunction('convertToInteractive',\n",
              "                                                     [key], {});\n",
              "          if (!dataTable) return;\n",
              "\n",
              "          const docLinkHtml = 'Like what you see? Visit the ' +\n",
              "            '<a target=\"_blank\" href=https://colab.research.google.com/notebooks/data_table.ipynb>data table notebook</a>'\n",
              "            + ' to learn more about interactive tables.';\n",
              "          element.innerHTML = '';\n",
              "          dataTable['output_type'] = 'display_data';\n",
              "          await google.colab.output.renderOutput(dataTable, element);\n",
              "          const docLink = document.createElement('div');\n",
              "          docLink.innerHTML = docLinkHtml;\n",
              "          element.appendChild(docLink);\n",
              "        }\n",
              "      </script>\n",
              "    </div>\n",
              "  </div>\n",
              "  "
            ]
          },
          "metadata": {},
          "execution_count": 26
        }
      ],
      "source": [
        "LE = LabelEncoder()\n",
        "x['Location'] = LE.fit_transform(x['Location'])\n",
        "x.head()\n",
        "\n",
        "LE = LabelEncoder()\n",
        "x['RainToday'] = LE.fit_transform(x['RainToday'])\n",
        "x.head()\n",
        "\n",
        "LE = LabelEncoder()\n",
        "x['WindGustDir'] = LE.fit_transform(x['WindGustDir'])\n",
        "x.head()\n",
        "\n",
        "LE = LabelEncoder()\n",
        "x['WindDir9am'] = LE.fit_transform(x['WindDir9am'])\n",
        "x.head()\n",
        "\n",
        "LE = LabelEncoder()\n",
        "x['WindDir3pm'] = LE.fit_transform(x['WindDir3pm'])\n",
        "x.head()"
      ]
    },
    {
      "cell_type": "code",
      "execution_count": 27,
      "metadata": {
        "colab": {
          "base_uri": "https://localhost:8080/"
        },
        "id": "_uqyy7Q38_S8",
        "outputId": "caecb20d-3d5f-41d3-d259-12f3bab3e115"
      },
      "outputs": [
        {
          "output_type": "stream",
          "name": "stderr",
          "text": [
            "/usr/local/lib/python3.7/dist-packages/sklearn/preprocessing/_label.py:115: DataConversionWarning: A column-vector y was passed when a 1d array was expected. Please change the shape of y to (n_samples, ), for example using ravel().\n",
            "  y = column_or_1d(y, warn=True)\n"
          ]
        }
      ],
      "source": [
        "LE = LabelEncoder()\n",
        "y=pd.DataFrame(y)\n",
        "y = LE.fit_transform(y)"
      ]
    },
    {
      "cell_type": "code",
      "execution_count": 28,
      "metadata": {
        "id": "enxkuu4B9CsD"
      },
      "outputs": [],
      "source": [
        "sc=StandardScaler()"
      ]
    },
    {
      "cell_type": "code",
      "execution_count": 29,
      "metadata": {
        "id": "xVpQbawm9FPb"
      },
      "outputs": [],
      "source": [
        "x=sc.fit_transform(x)"
      ]
    },
    {
      "cell_type": "code",
      "execution_count": 30,
      "metadata": {
        "colab": {
          "base_uri": "https://localhost:8080/"
        },
        "id": "boVrCNjF7_XW",
        "outputId": "c5abb32b-a34d-444b-d7b1-d58b0c5de058"
      },
      "outputs": [
        {
          "output_type": "execute_result",
          "data": {
            "text/plain": [
              "array([[-1.57320195,  0.03373153, -0.18610579, -0.21949643,  0.5443919 ,\n",
              "         0.89875889,  0.85486375,  0.02221682, -1.49776059, -1.79474533,\n",
              "        -1.47155086, -0.16402523, -0.13037804, -0.5268001 ,  1.31021668,\n",
              "         1.05869117,  1.50095343],\n",
              "       [-1.57320195, -1.00717828,  0.18168867, -0.28430903,  0.5443919 ,\n",
              "        -0.90544069,  0.62577631, -1.52634221, -1.34957326, -1.301154  ,\n",
              "        -1.35114145, -0.10762158,  0.30349988, -0.5268001 ,  1.5340405 ,\n",
              "        -0.51175529,  1.72656561],\n",
              "       [-1.57320195, -0.05301095,  0.28199625, -0.28430903,  0.70698875,\n",
              "         0.78599642,  1.0839512 , -1.87046643, -1.10259439, -1.81176572,\n",
              "        -1.19632935,  0.60682465,  0.1125936 , -0.5268001 ,  1.75786431,\n",
              "         1.05869117,  1.72656561],\n",
              "       [-1.57320195, -0.69490534,  0.66650864, -0.28430903, -1.08157658,\n",
              "        -0.11610337, -0.8632921 , -1.46898817, -1.79413524, -0.10972665,\n",
              "        -0.49107423,  0.06158936,  0.68531244, -0.5268001 , -0.70419764,\n",
              "         0.16129319, -1.6576172 ],\n",
              "       [-1.57320195,  0.74501991,  1.38537963, -0.17628802,  0.30049663,\n",
              "        -0.56715327,  0.39668886,  0.65311124, -0.95440706, -1.26711322,\n",
              "        -1.66076564,  0.00518571,  1.24067617, -0.5268001 ,  1.31021668,\n",
              "        -1.63350276, -0.07833189]])"
            ]
          },
          "metadata": {},
          "execution_count": 30
        }
      ],
      "source": [
        "x[:5]"
      ]
    },
    {
      "cell_type": "code",
      "execution_count": 31,
      "metadata": {
        "id": "yaAYy4qDiI8H"
      },
      "outputs": [],
      "source": [
        "x = pd.DataFrame(x,columns=names)"
      ]
    },
    {
      "cell_type": "markdown",
      "metadata": {
        "id": "ac6FaQPwifkG"
      },
      "source": [
        "## **Splitting The Data Into Train And Test**\n",
        "\n"
      ]
    },
    {
      "cell_type": "code",
      "execution_count": 32,
      "metadata": {
        "id": "VoI_PuhWigIE"
      },
      "outputs": [],
      "source": [
        "from sklearn import model_selection"
      ]
    },
    {
      "cell_type": "code",
      "execution_count": 33,
      "metadata": {
        "id": "MDbsfOM3jMvz"
      },
      "outputs": [],
      "source": [
        "x_train,x_test,y_train,y_test = model_selection.train_test_split(x,y, random_state =0)"
      ]
    },
    {
      "cell_type": "markdown",
      "metadata": {
        "id": "3-J3Mk_D-MA4"
      },
      "source": [
        "## **Training And Testing The Model**"
      ]
    },
    {
      "cell_type": "code",
      "execution_count": 34,
      "metadata": {
        "id": "U7uo0-YB_Psa"
      },
      "outputs": [],
      "source": [
        "import sklearn\n",
        "XGBoost = xgboost.XGBRFClassifier()\n",
        "Rand_forest = sklearn.ensemble.RandomForestClassifier()\n",
        "SVM = sklearn.svm.SVC()\n",
        "Dtree = sklearn.tree.DecisionTreeClassifier()\n",
        "GBM = sklearn.ensemble.GradientBoostingClassifier()\n",
        "log = sklearn.linear_model.LogisticRegression()"
      ]
    },
    {
      "cell_type": "code",
      "execution_count": 35,
      "metadata": {
        "colab": {
          "base_uri": "https://localhost:8080/"
        },
        "id": "ugbic-TxFtS_",
        "outputId": "cdcb659e-91c8-44dd-dc93-be7251fc3cca"
      },
      "outputs": [
        {
          "output_type": "execute_result",
          "data": {
            "text/plain": [
              "False"
            ]
          },
          "metadata": {},
          "execution_count": 35
        }
      ],
      "source": [
        "np.any(np.isnan(x))"
      ]
    },
    {
      "cell_type": "code",
      "execution_count": 36,
      "metadata": {
        "colab": {
          "base_uri": "https://localhost:8080/"
        },
        "id": "HHKIk04VgPQL",
        "outputId": "38f40e05-3c1b-4633-d74d-cfe8e11dfc76"
      },
      "outputs": [
        {
          "output_type": "execute_result",
          "data": {
            "text/plain": [
              "XGBRFClassifier(objective='multi:softprob')"
            ]
          },
          "metadata": {},
          "execution_count": 36
        }
      ],
      "source": [
        "XGBoost.fit(x_train,y_train)"
      ]
    },
    {
      "cell_type": "code",
      "execution_count": 37,
      "metadata": {
        "colab": {
          "base_uri": "https://localhost:8080/"
        },
        "id": "ZZlrl21bghZK",
        "outputId": "23668c44-1fc4-4169-a52e-be8821d1d885"
      },
      "outputs": [
        {
          "output_type": "execute_result",
          "data": {
            "text/plain": [
              "RandomForestClassifier()"
            ]
          },
          "metadata": {},
          "execution_count": 37
        }
      ],
      "source": [
        "Rand_forest.fit(x_train,y_train)"
      ]
    },
    {
      "cell_type": "code",
      "execution_count": 39,
      "metadata": {
        "colab": {
          "base_uri": "https://localhost:8080/"
        },
        "id": "w0wbf7hjgsw_",
        "outputId": "4e93e8f4-ac8e-47c4-a26f-a1ba0dd77a18"
      },
      "outputs": [
        {
          "output_type": "execute_result",
          "data": {
            "text/plain": [
              "DecisionTreeClassifier()"
            ]
          },
          "metadata": {},
          "execution_count": 39
        }
      ],
      "source": [
        "Dtree.fit(x_train,y_train)"
      ]
    },
    {
      "cell_type": "code",
      "execution_count": 40,
      "metadata": {
        "colab": {
          "base_uri": "https://localhost:8080/"
        },
        "id": "XDhWPTPMgz5R",
        "outputId": "a46633c9-eddf-43b7-bfb3-327d7242c50f"
      },
      "outputs": [
        {
          "output_type": "execute_result",
          "data": {
            "text/plain": [
              "GradientBoostingClassifier()"
            ]
          },
          "metadata": {},
          "execution_count": 40
        }
      ],
      "source": [
        "GBM.fit(x_train,y_train)"
      ]
    },
    {
      "cell_type": "code",
      "execution_count": 41,
      "metadata": {
        "colab": {
          "base_uri": "https://localhost:8080/"
        },
        "id": "sbUElwhyg9gg",
        "outputId": "f8c4a42d-7184-4bec-bbd9-b2541ec47695"
      },
      "outputs": [
        {
          "output_type": "execute_result",
          "data": {
            "text/plain": [
              "LogisticRegression()"
            ]
          },
          "metadata": {},
          "execution_count": 41
        }
      ],
      "source": [
        "log.fit(x_train,y_train)"
      ]
    },
    {
      "cell_type": "code",
      "execution_count": 42,
      "metadata": {
        "colab": {
          "base_uri": "https://localhost:8080/"
        },
        "id": "owR2Bk_DhDPp",
        "outputId": "842d1cc2-4f8e-46ee-dbf3-2d7e0c6b3da4"
      },
      "outputs": [
        {
          "output_type": "execute_result",
          "data": {
            "text/plain": [
              "SVC()"
            ]
          },
          "metadata": {},
          "execution_count": 42
        }
      ],
      "source": [
        "SVM.fit(x_train,y_train)"
      ]
    },
    {
      "cell_type": "code",
      "execution_count": 43,
      "metadata": {
        "id": "mnNJbGchhi95"
      },
      "outputs": [],
      "source": [
        "p1 = XGBoost.predict(x_train)\n",
        "p2 = Rand_forest.predict(x_train)\n",
        "p3 = SVM.predict(x_train)\n",
        "p4 = Dtree.predict(x_train)\n",
        "p5 = GBM.predict(x_train)\n",
        "p6 = log.predict(x_train)"
      ]
    },
    {
      "cell_type": "code",
      "execution_count": 44,
      "metadata": {
        "id": "qEm8eONuikRL",
        "colab": {
          "base_uri": "https://localhost:8080/"
        },
        "outputId": "20086c21-9094-4cf1-80c3-eb04f03bae0c"
      },
      "outputs": [
        {
          "output_type": "stream",
          "name": "stdout",
          "text": [
            "xgboost: 0.8245003276539974\n"
          ]
        }
      ],
      "source": [
        "print(\"xgboost:\",metrics.accuracy_score(y_train,p1))"
      ]
    },
    {
      "cell_type": "code",
      "execution_count": 45,
      "metadata": {
        "id": "k8665Xxii2Wm",
        "colab": {
          "base_uri": "https://localhost:8080/"
        },
        "outputId": "f3d460e2-25f1-46c0-d958-ab6d53e9716d"
      },
      "outputs": [
        {
          "output_type": "stream",
          "name": "stdout",
          "text": [
            "Rand_forest: 0.9995904325032765\n"
          ]
        }
      ],
      "source": [
        "print(\"Rand_forest:\",metrics.accuracy_score(y_train,p2))"
      ]
    },
    {
      "cell_type": "code",
      "execution_count": 46,
      "metadata": {
        "id": "LxNGTQQFi7nx",
        "colab": {
          "base_uri": "https://localhost:8080/"
        },
        "outputId": "cd6a9fc1-2e9e-47c1-ca49-a2c943b624d7"
      },
      "outputs": [
        {
          "output_type": "stream",
          "name": "stdout",
          "text": [
            "SVM: 0.8245003276539974\n",
            "Dtree: 0.8245003276539974\n",
            "GBM: 0.8245003276539974\n",
            "log: 0.8245003276539974\n"
          ]
        }
      ],
      "source": [
        "print(\"SVM:\",metrics.accuracy_score(y_train,p1))\n",
        "print(\"Dtree:\",metrics.accuracy_score(y_train,p1))\n",
        "print(\"GBM:\",metrics.accuracy_score(y_train,p1))\n",
        "print(\"log:\",metrics.accuracy_score(y_train,p1))"
      ]
    },
    {
      "cell_type": "markdown",
      "metadata": {
        "id": "OdgCX_lWjMVn"
      },
      "source": [
        "## **Model Evaluation**"
      ]
    },
    {
      "cell_type": "code",
      "execution_count": 47,
      "metadata": {
        "id": "mRmJeOs9jefe"
      },
      "outputs": [],
      "source": [
        "t1 = XGBoost.predict(x_test)\n",
        "t2 = Rand_forest.predict(x_test)\n",
        "t3 = SVM.predict(x_test)\n",
        "t4 = Dtree.predict(x_test)\n",
        "t5 = GBM.predict(x_test)\n",
        "t6 = log.predict(x_test)"
      ]
    },
    {
      "cell_type": "markdown",
      "metadata": {
        "id": "55GDQKg9kw0N"
      },
      "source": [
        "1. Accuracy_score"
      ]
    },
    {
      "cell_type": "code",
      "execution_count": 48,
      "metadata": {
        "colab": {
          "base_uri": "https://localhost:8080/"
        },
        "id": "jX7Sx0dIk1EL",
        "outputId": "6129a833-ff18-46c4-a480-7013ce38dcbc"
      },
      "outputs": [
        {
          "output_type": "stream",
          "name": "stdout",
          "text": [
            "xgboost: 0.825531392062907\n",
            "Rand_forest: 0.841503870254331\n",
            "SVM: 0.8329033050743334\n",
            "Dtree: 0.7553753532374985\n",
            "GBM: 0.8419953311217594\n",
            "log: 0.8254085268460499\n"
          ]
        }
      ],
      "source": [
        "print(\"xgboost:\",metrics.accuracy_score(y_test,t1))\n",
        "print(\"Rand_forest:\",metrics.accuracy_score(y_test,t2))\n",
        "print(\"SVM:\",metrics.accuracy_score(y_test,t3))\n",
        "print(\"Dtree:\",metrics.accuracy_score(y_test,t4))\n",
        "print(\"GBM:\",metrics.accuracy_score(y_test,t5))\n",
        "print(\"log:\",metrics.accuracy_score(y_test,t6))"
      ]
    },
    {
      "cell_type": "markdown",
      "metadata": {
        "id": "tKRrfVvylMvs"
      },
      "source": [
        "2.Confusion Matrix"
      ]
    },
    {
      "cell_type": "code",
      "execution_count": 49,
      "metadata": {
        "id": "5-VZr87RoMFt"
      },
      "outputs": [],
      "source": [
        "y_pred = log.predict(x_test)"
      ]
    },
    {
      "cell_type": "code",
      "execution_count": 50,
      "metadata": {
        "id": "c8UemE3gleVn"
      },
      "outputs": [],
      "source": [
        "conf_matrix = metrics.confusion_matrix(y_test,y_pred)"
      ]
    },
    {
      "cell_type": "code",
      "execution_count": 51,
      "metadata": {
        "colab": {
          "base_uri": "https://localhost:8080/",
          "height": 501
        },
        "id": "sw3G7uzto9j8",
        "outputId": "0b6035d4-fd53-49e2-b832-c27131f6424a"
      },
      "outputs": [
        {
          "output_type": "display_data",
          "data": {
            "text/plain": [
              "<Figure size 540x540 with 1 Axes>"
            ],
            "image/png": "[encoded data removed]"
          },
          "metadata": {
            "needs_background": "light"
          }
        }
      ],
      "source": [
        "fig, ax = plt.subplots(figsize=(7.5, 7.5))\n",
        "ax.matshow(conf_matrix, alpha=0.3)\n",
        "for i in range(conf_matrix.shape[0]):\n",
        "  for j in range(conf_matrix.shape[1]):\n",
        "    ax.text(x=j, y=i, s=conf_matrix[i, j], va='center', ha='center', size='xx-large')\n",
        "\n",
        "plt.xlabel('predictions', fontsize=18)\n",
        "plt.ylabel('Actuals', fontsize=18)\n",
        "plt.title('Confusion Matrix', fontsize=18)\n",
        "plt.show()"
      ]
    },
    {
      "cell_type": "markdown",
      "metadata": {
        "id": "y7clGP8EqL7W"
      },
      "source": [
        "3. Roc-Auc Curve"
      ]
    },
    {
      "cell_type": "code",
      "execution_count": 52,
      "metadata": {
        "id": "GKHBZ-Z2sbAg"
      },
      "outputs": [],
      "source": [
        "from sklearn.metrics import accuracy_score\n",
        "from sklearn.metrics import precision_score, recall_score, f1_score"
      ]
    },
    {
      "cell_type": "code",
      "execution_count": 53,
      "metadata": {
        "id": "Wd6E8bgHrdkC"
      },
      "outputs": [],
      "source": [
        "Accuracy = accuracy_score\n",
        "Precesion = precision_score\n",
        "Recall = recall_score\n",
        "F1_score = f1_score"
      ]
    },
    {
      "cell_type": "code",
      "execution_count": 54,
      "metadata": {
        "colab": {
          "base_uri": "https://localhost:8080/"
        },
        "id": "TFVDHMOAqMpe",
        "outputId": "a771e711-35ed-49f2-be82-632492bb50b5"
      },
      "outputs": [
        {
          "output_type": "stream",
          "name": "stdout",
          "text": [
            "[[5953  319    0]\n",
            " [ 919  765    1]\n",
            " [ 155   27    0]]\n",
            "Accuracy: <function accuracy_score at 0x7f22868397a0>\n",
            "Precesion: <function precision_score at 0x7f2286839ef0>\n",
            "Recall: <function recall_score at 0x7f2286839f80>\n",
            "F1-score <function f1_score at 0x7f2286839b90>\n"
          ]
        }
      ],
      "source": [
        "print(conf_matrix)\n",
        "print(\"Accuracy:\",Accuracy)\n",
        "print(\"Precesion:\",Precesion)\n",
        "print(\"Recall:\",Recall)\n",
        "print(\"F1-score\",F1_score)"
      ]
    },
    {
      "cell_type": "code",
      "execution_count": 55,
      "metadata": {
        "id": "oz4hqLUNub4n"
      },
      "outputs": [],
      "source": [
        "from sklearn.metrics import roc_auc_score"
      ]
    },
    {
      "cell_type": "code",
      "execution_count": 57,
      "metadata": {
        "id": "TaUBk6r1wqjM"
      },
      "outputs": [],
      "source": [
        "auc = metrics.roc_auc_score"
      ]
    },
    {
      "cell_type": "markdown",
      "source": [
        "## **Save The Model**"
      ],
      "metadata": {
        "id": "gOw_z6-S_xOz"
      }
    },
    {
      "cell_type": "code",
      "execution_count": 64,
      "metadata": {
        "id": "Sg0UP5k9uktx"
      },
      "outputs": [],
      "source": [
        "import pickle"
      ]
    },
    {
      "cell_type": "code",
      "source": [
        "pickle.dump(Rand_forest,open('rainfall.pk1','wb'))\n",
        "pickle.dump(LE,open('encoder.pk1','wb'))\n",
        "pickle.dump(imp_mode,open('impter.pk1','wb'))\n",
        "pickle.dump(sc,open('scale.pk1','wb'))"
      ],
      "metadata": {
        "id": "-s-sahfH_2kI"
      },
      "execution_count": 66,
      "outputs": []
    }
  ],
  "metadata": {
    "colab": {
      "collapsed_sections": [
        "S0cav-DWbSmK",
        "r7h5p3I4bV6t",
        "xVqwWwgZblZO",
        "sFCNPetrfO6x",
        "eSW20ZQOgKYE",
        "eY_tKJPtgodO",
        "ac6FaQPwifkG"
      ],
      "provenance": []
    },
    "kernelspec": {
      "display_name": "Python 3",
      "name": "python3"
    },
    "language_info": {
      "name": "python"
    }
  },
  "nbformat": 4,
  "nbformat_minor": 0
}